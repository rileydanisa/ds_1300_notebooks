{
 "cells": [
  {
   "cell_type": "markdown",
   "id": "878f1aa2",
   "metadata": {},
   "source": [
    "# Introduction to Python Programming\n"
   ]
  },
  {
   "cell_type": "markdown",
   "id": "f69ad5c6",
   "metadata": {},
   "source": [
    "By: Dr. Eric Godat and Dr. Rob Kalescky "
   ]
  },
  {
   "cell_type": "markdown",
   "id": "ef0e2468",
   "metadata": {},
   "source": [
    "# Intro to Python Basics"
   ]
  },
  {
   "cell_type": "markdown",
   "id": "7581ece9",
   "metadata": {},
   "source": [
    "*This section is designed to guide you from having never used Python before to feeling comfortable with basic operations.*\n",
    "\n",
    "Python is a programming language capable of just about anything you could want to do. It is designed to be human readable and robust. This particular document is called a Jupyter Notebook. Notebooks are tools for developing Python code and running that code in small steps and see the intermediate results in line."
   ]
  },
  {
   "cell_type": "markdown",
   "id": "81e33bf2",
   "metadata": {},
   "source": [
    "## Operating this notebook"
   ]
  },
  {
   "cell_type": "markdown",
   "id": "518136ac",
   "metadata": {},
   "source": [
    "To operate this notebook, you will need to execute boxes of code, called cells. To do this you can either click the *Run* button on the toolbar or use [Shift]+[Enter].\n",
    "\n",
    "Throughout this notebook you will see cells that are not code (like this one). These cells contain text in a language called Markdown. You can execute these cells to render formatted text. A cheatsheet for Markdown can be found by clicking `Help -> Markdown Reference` or articles [like this](https://medium.com/analytics-vidhya/the-ultimate-markdown-guide-for-jupyter-notebook-d5e5abf728fd). There will also be comments with in the code itself that give additional information about the operation of the code, describe functions or show you places where you might want to make changes. These comments are always preceded by an octothorp (#) and in most cases be a different color from the surrounding text.\n",
    "\n",
    "Notebooks save automatically, however if you have made big changes your code, you can checkpoint it. This allows you to roll back changes to this point (or any previous checkpoints) should something break in the future.\n",
    "\n",
    "There are a few useful [keyboard shortcuts](https://gist.github.com/discdiver/9e00618756d120a8c9fa344ac1c375ac) for modifying the cells in a notebook. To use these, click on the far left side of the cell such that the outline changes color (to blue in most cases), press [Enter]] to return to editing the cell's contents.\n",
    "\n",
    "-Add a cell **a**bove the current cell   [A]\n",
    "\n",
    "-Add a cell **b**elow the current cell   [B]\n",
    "\n",
    "-**D**elete the current cell   [D,D]\n",
    "\n",
    "**Let's try it out!**"
   ]
  },
  {
   "cell_type": "markdown",
   "id": "786d42c0",
   "metadata": {},
   "source": [
    "### Basic Math"
   ]
  },
  {
   "cell_type": "markdown",
   "id": "affb9fe0",
   "metadata": {},
   "source": [
    "Python can do simple mathematical operations just like a calculator. Try executing the following cells."
   ]
  },
  {
   "cell_type": "code",
   "execution_count": 1,
   "id": "5f777b21",
   "metadata": {},
   "outputs": [
    {
     "data": {
      "text/plain": [
       "2"
      ]
     },
     "execution_count": 1,
     "metadata": {},
     "output_type": "execute_result"
    }
   ],
   "source": [
    "1+1"
   ]
  },
  {
   "cell_type": "code",
   "execution_count": 2,
   "id": "2e613204",
   "metadata": {},
   "outputs": [
    {
     "data": {
      "text/plain": [
       "0.5"
      ]
     },
     "execution_count": 2,
     "metadata": {},
     "output_type": "execute_result"
    }
   ],
   "source": [
    "2.5-2.0"
   ]
  },
  {
   "cell_type": "markdown",
   "id": "e85e233e",
   "metadata": {},
   "source": [
    "> Let's now add a cell and have it calculate the sum of the populations of Dallas (1,345,000) and Fort Worth (895,000)."
   ]
  },
  {
   "cell_type": "code",
   "execution_count": 3,
   "id": "96c77fb4",
   "metadata": {},
   "outputs": [],
   "source": [
    "# Add a cell below this one to do your calculation"
   ]
  },
  {
   "cell_type": "code",
   "execution_count": 4,
   "id": "40d96e91-d828-498f-83e9-9079eb1a150c",
   "metadata": {},
   "outputs": [
    {
     "data": {
      "text/plain": [
       "2240000"
      ]
     },
     "execution_count": 4,
     "metadata": {},
     "output_type": "execute_result"
    }
   ],
   "source": [
    "1345000+895000"
   ]
  },
  {
   "cell_type": "markdown",
   "id": "c0d11057",
   "metadata": {},
   "source": [
    "## Variables and Objects"
   ]
  },
  {
   "cell_type": "code",
   "execution_count": null,
   "id": "4840e6db-98b7-45c6-b450-2c1d0af34323",
   "metadata": {},
   "outputs": [],
   "source": []
  },
  {
   "cell_type": "markdown",
   "id": "27088c80",
   "metadata": {},
   "source": [
    "Calculations are nice but we really want to be able to store our calculations in memory so that we can access them later. We do that by assigning variables. "
   ]
  },
  {
   "cell_type": "code",
   "execution_count": 5,
   "id": "e2e57c1a",
   "metadata": {},
   "outputs": [],
   "source": [
    "a=2\n",
    "b=3"
   ]
  },
  {
   "cell_type": "code",
   "execution_count": 6,
   "id": "ca688844",
   "metadata": {},
   "outputs": [
    {
     "data": {
      "text/plain": [
       "5"
      ]
     },
     "execution_count": 6,
     "metadata": {},
     "output_type": "execute_result"
    }
   ],
   "source": [
    "a+b"
   ]
  },
  {
   "cell_type": "markdown",
   "id": "3b492da9",
   "metadata": {},
   "source": [
    "Variables can be named just about anything"
   ]
  },
  {
   "cell_type": "code",
   "execution_count": 7,
   "id": "9be6743f",
   "metadata": {},
   "outputs": [],
   "source": [
    "Dallas=2\n",
    "SMU=7\n",
    "texas_TX=3"
   ]
  },
  {
   "cell_type": "code",
   "execution_count": 8,
   "id": "9b179a75",
   "metadata": {},
   "outputs": [
    {
     "data": {
      "text/plain": [
       "42"
      ]
     },
     "execution_count": 8,
     "metadata": {},
     "output_type": "execute_result"
    }
   ],
   "source": [
    "#Notice that if we assign a value to a variable, our notebook won't return that value to our screen.\n",
    "#If we want it to show us the value, we can call that variable after it is assigned.\n",
    "ouranswer = SMU*Dallas*texas_TX\n",
    "ouranswer"
   ]
  },
  {
   "cell_type": "markdown",
   "id": "9eac7ed5",
   "metadata": {},
   "source": [
    "So far we have been doing all of our operations on numbers, integers and floats (decimals), but there are other useful objects we can use in Python.\n",
    "\n",
    "Strings allow us to store and operate on text data. Strings in Python are surrounded by either single quotes '' or double quotes \"\"."
   ]
  },
  {
   "cell_type": "code",
   "execution_count": 9,
   "id": "0cd9eb52",
   "metadata": {},
   "outputs": [
    {
     "data": {
      "text/plain": [
       "'Here is a string in Python!'"
      ]
     },
     "execution_count": 9,
     "metadata": {},
     "output_type": "execute_result"
    }
   ],
   "source": [
    "ourstring = \"Here is a string in Python!\"\n",
    "ourstring"
   ]
  },
  {
   "cell_type": "markdown",
   "id": "cc060088",
   "metadata": {},
   "source": [
    "> Try uncommenting the next cell and making a string of your own."
   ]
  },
  {
   "cell_type": "code",
   "execution_count": 10,
   "id": "f8184c7f",
   "metadata": {},
   "outputs": [
    {
     "data": {
      "text/plain": [
       "'To be or not to be, that is the question'"
      ]
     },
     "execution_count": 10,
     "metadata": {},
     "output_type": "execute_result"
    }
   ],
   "source": [
    "mystring = \"To be or not to be, that is the question\"\n",
    "mystring"
   ]
  },
  {
   "cell_type": "markdown",
   "id": "f1c6f79d",
   "metadata": {},
   "source": [
    "If we later want to see the value stored in a variable we can always use the built in **print** function. **Print** is recognized as a keyword by our notebook and so the color changes to make our lives as programmers easier."
   ]
  },
  {
   "cell_type": "code",
   "execution_count": 11,
   "id": "a235f93a",
   "metadata": {},
   "outputs": [
    {
     "name": "stdout",
     "output_type": "stream",
     "text": [
      "To be or not to be, that is the question\n"
     ]
    }
   ],
   "source": [
    "print(mystring)"
   ]
  },
  {
   "cell_type": "markdown",
   "id": "e2dace77",
   "metadata": {},
   "source": [
    "What if we want to have multiple strings stored at once but we don't want to assign a bunch of variables? Then we can use a list.\n",
    "\n",
    "Lists are enclosed by brackets [] and separated by commas."
   ]
  },
  {
   "cell_type": "code",
   "execution_count": 12,
   "id": "8659a43b",
   "metadata": {},
   "outputs": [],
   "source": [
    "ourlist = ['This', 'is', \"a\", \"list\", 'of', \"strings\"]"
   ]
  },
  {
   "cell_type": "code",
   "execution_count": 13,
   "id": "d672255b",
   "metadata": {},
   "outputs": [
    {
     "name": "stdout",
     "output_type": "stream",
     "text": [
      "['This', 'is', 'a', 'list', 'of', 'strings']\n"
     ]
    }
   ],
   "source": [
    "print(ourlist)"
   ]
  },
  {
   "cell_type": "markdown",
   "id": "ecceaa95",
   "metadata": {},
   "source": [
    "To access individual elements in a list you call it by its reference number.\n",
    "\n",
    "*__Note:__ In Python, counting starts with 0. Thus in the list [a,b,c], a is the 0th element and c is the 2nd*"
   ]
  },
  {
   "cell_type": "code",
   "execution_count": 14,
   "id": "f85c52bb",
   "metadata": {},
   "outputs": [],
   "source": [
    "first = ourlist[0]"
   ]
  },
  {
   "cell_type": "code",
   "execution_count": 15,
   "id": "b8c7963b",
   "metadata": {},
   "outputs": [],
   "source": [
    "# Notice we can call the last element by using a negative reference number. This lets us see the end without knowing how long the list is.\n",
    "last = ourlist[-1]"
   ]
  },
  {
   "cell_type": "code",
   "execution_count": 16,
   "id": "2cd8871a",
   "metadata": {},
   "outputs": [
    {
     "name": "stdout",
     "output_type": "stream",
     "text": [
      "This strings\n"
     ]
    }
   ],
   "source": [
    "print(first,last)"
   ]
  },
  {
   "cell_type": "code",
   "execution_count": 17,
   "id": "a78c3798",
   "metadata": {},
   "outputs": [
    {
     "data": {
      "text/plain": [
       "6"
      ]
     },
     "execution_count": 17,
     "metadata": {},
     "output_type": "execute_result"
    }
   ],
   "source": [
    "# If we did want to know the length of our list we can use the len() function\n",
    "len(ourlist)"
   ]
  },
  {
   "cell_type": "markdown",
   "id": "665835a8",
   "metadata": {},
   "source": [
    "> Try making a list and printing the 2nd element from your list. Make sure to remove the #'s for comments."
   ]
  },
  {
   "cell_type": "code",
   "execution_count": 18,
   "id": "70cbb828",
   "metadata": {},
   "outputs": [
    {
     "name": "stdout",
     "output_type": "stream",
     "text": [
      "plague\n"
     ]
    }
   ],
   "source": [
    "mylist = ['A','plague','on','both','your','houses']\n",
    "print(mylist [1])\n",
    "\n"
   ]
  },
  {
   "cell_type": "markdown",
   "id": "fd3df3b9",
   "metadata": {},
   "source": [
    "> How long is your list?"
   ]
  },
  {
   "cell_type": "code",
   "execution_count": 19,
   "id": "b418fdf8",
   "metadata": {},
   "outputs": [
    {
     "data": {
      "text/plain": [
       "6"
      ]
     },
     "execution_count": 19,
     "metadata": {},
     "output_type": "execute_result"
    }
   ],
   "source": [
    "len(mylist)"
   ]
  },
  {
   "cell_type": "markdown",
   "id": "fbd81d3a",
   "metadata": {},
   "source": [
    "### Dictionaries"
   ]
  },
  {
   "cell_type": "markdown",
   "id": "5a492ba6",
   "metadata": {},
   "source": [
    "Dictionaries are a different way of storing data than lists. They rely on a key and value system as opposed to the order of the entries.\n",
    "\n",
    "Dictionaries are enclosed in curly braces {}, the key and value are separated by a colon : and entries are separated by commas ,\n",
    "\n",
    "Values can then be accessed by referencing the key.\n",
    "\n",
    "*__Note:__ Finding dictionary values does not go both ways, so using the value to find the key will cause an error.*"
   ]
  },
  {
   "cell_type": "code",
   "execution_count": 20,
   "id": "d74dd02f",
   "metadata": {},
   "outputs": [
    {
     "data": {
      "text/plain": [
       "{'Dallas': 1345000, 'Taos': 5668, 'Houston': 2326000}"
      ]
     },
     "execution_count": 20,
     "metadata": {},
     "output_type": "execute_result"
    }
   ],
   "source": [
    "ourdictionary = {\"Dallas\":1345000,\"Taos\":5668,'Houston':2326000}\n",
    "ourdictionary"
   ]
  },
  {
   "cell_type": "code",
   "execution_count": 21,
   "id": "53b1d2a3",
   "metadata": {},
   "outputs": [
    {
     "data": {
      "text/plain": [
       "5668"
      ]
     },
     "execution_count": 21,
     "metadata": {},
     "output_type": "execute_result"
    }
   ],
   "source": [
    "ourdictionary[\"Taos\"] \n",
    "#NOTE: ourdictionary[5668] will NOT give you \"Taos\", but an error."
   ]
  },
  {
   "cell_type": "markdown",
   "id": "17f66445",
   "metadata": {},
   "source": [
    "Here are the word counts for the *Lord of the Rings* books ([citation](http://lotrproject.com/statistics/books/wordscount)). We will use this data for some exercises below.\n",
    "\n",
    "|__Book__|__Word Count__|\n",
    "|---|---|\n",
    "|The Silmarillion|130115|\n",
    "|The Hobbit|95506|\n",
    "|The Fellowship of the Ring|187726|\n",
    "|The Two Towers|156147|\n",
    "|The Return of the King|137037|\n"
   ]
  },
  {
   "cell_type": "code",
   "execution_count": 22,
   "id": "85e26f60",
   "metadata": {},
   "outputs": [],
   "source": [
    "tolkien = {\"The Silmarillion\":130115, \"The Hobbit\":95506, \"The Fellowship of the Ring\":187726, \"The Two Towers\":156147, \"The Return of the King\":137037}"
   ]
  },
  {
   "cell_type": "code",
   "execution_count": 23,
   "id": "948ae4f1-bcb1-4d0f-a6b6-5c847b457827",
   "metadata": {},
   "outputs": [
    {
     "name": "stdout",
     "output_type": "stream",
     "text": [
      "{'The Silmarillion': 130115, 'The Hobbit': 95506, 'The Fellowship of the Ring': 187726, 'The Two Towers': 156147, 'The Return of the King': 137037}\n"
     ]
    }
   ],
   "source": [
    "print(tolkien)"
   ]
  },
  {
   "cell_type": "code",
   "execution_count": 24,
   "id": "46e228f0-656d-4794-8e92-ae642cb85439",
   "metadata": {},
   "outputs": [
    {
     "name": "stdout",
     "output_type": "stream",
     "text": [
      "92220\n",
      "706531\n"
     ]
    }
   ],
   "source": [
    "hobbit=tolkien[\"The Hobbit\"]\n",
    "ring=tolkien[\"The Fellowship of the Ring\"]\n",
    "tower=tolkien[\"The Two Towers\"]\n",
    "king=tolkien[\"The Return of the King\"]\n",
    "silm= tolkien[\"The Silmarillion\"]\n",
    "print (ring-hobbit)\n",
    "print(hobbit+ring+tower+king+silm)"
   ]
  },
  {
   "cell_type": "raw",
   "id": "564aafff",
   "metadata": {},
   "source": [
    "# Example Solution\n",
    "\n",
    "tolkien = {\"The Silmarillion\":130115,\"The Hobbit\":95506,\"The Fellowship of the Ring\":187726, \"The Two Towers\":156147, \"The Return of the King\":137037}\n",
    "\n",
    "bilbo=tolkien[\"The Hobbit\"]\n",
    "\n",
    "frodo=tolkien[\"The Fellowship of the Ring\"]\n",
    "\n",
    "print(\"The Fellowship of the Ring - The Hobbit\")\n",
    "\n",
    "print(frodo-bilbo)\n",
    "\n",
    "print(\"Total Words for the Lord of the Rings Trilogy\")\n",
    "\n",
    "print(tolkien[\"The Fellowship of the Ring\"]+tolkien[\"The Two Towers\"]+tolkien[\"The Return of the King\"])\n"
   ]
  },
  {
   "cell_type": "markdown",
   "id": "d57d6c56",
   "metadata": {},
   "source": [
    "## Loops and Functions"
   ]
  },
  {
   "cell_type": "markdown",
   "id": "7bd8880a",
   "metadata": {},
   "source": [
    "Computers are much better at doing simple repeatable tasks than humans are so to leverage this advantage, we will cover two different ways of writing these kind of repeatable instructions."
   ]
  },
  {
   "cell_type": "markdown",
   "id": "a5c1872d",
   "metadata": {},
   "source": [
    "### Loops"
   ]
  },
  {
   "cell_type": "markdown",
   "id": "51dca65e",
   "metadata": {},
   "source": [
    "Loops are a way of having Python complete a task over and over.\n",
    "\n",
    "The most common form if a **for** loop. A **for** loop completes a task a fixed number of times by iterating a variable over the members of a sequence in order."
   ]
  },
  {
   "cell_type": "code",
   "execution_count": 25,
   "id": "5ae6b349",
   "metadata": {},
   "outputs": [
    {
     "name": "stdout",
     "output_type": "stream",
     "text": [
      "0\n",
      "1\n",
      "2\n"
     ]
    }
   ],
   "source": [
    "#Example for loop\n",
    "for i in [0,1,2]:\n",
    "    print(i)"
   ]
  },
  {
   "cell_type": "markdown",
   "id": "c848f850",
   "metadata": {},
   "source": [
    "*__Note__: The indention is important, it tells Python that the line *print(i)* belongs inside the loop.*"
   ]
  },
  {
   "cell_type": "markdown",
   "id": "05100719",
   "metadata": {},
   "source": [
    "### Functions"
   ]
  },
  {
   "cell_type": "markdown",
   "id": "16af2d27",
   "metadata": {},
   "source": [
    "Sometimes it would be nice to be able to save a group of instructions in a single block, that way we won't need to rewrite several lines of code each time we want to do that set of operations.\n",
    "\n",
    "To do this we define a **function**.\n",
    "\n",
    "Functions allow us to define a more complicated set of instructions as a single entity and call that entire block of code directly.\n",
    "\n",
    "Functions are defined (*def*), named (lowercase is a standard practice) and accept arguments (). They then can return a value if needed (*return*).\n",
    "\n",
    "Python has several built in functions (*print()* is a good example) and when you combine external packages and libraries, there are functions for just about everything you could think of."
   ]
  },
  {
   "cell_type": "code",
   "execution_count": 26,
   "id": "ac7e1f17",
   "metadata": {},
   "outputs": [],
   "source": [
    "# Example function\n",
    "def square_me(n):\n",
    "    return n*n"
   ]
  },
  {
   "cell_type": "code",
   "execution_count": 27,
   "id": "4ad35a7a",
   "metadata": {},
   "outputs": [
    {
     "data": {
      "text/plain": [
       "16"
      ]
     },
     "execution_count": 27,
     "metadata": {},
     "output_type": "execute_result"
    }
   ],
   "source": [
    "square_me(4)"
   ]
  },
  {
   "cell_type": "markdown",
   "id": "1026b5a2",
   "metadata": {},
   "source": [
    ">**Think**: What is something that you do over and over again?\n",
    ">Is that task something you could use a *loop* for or a *function* for?"
   ]
  },
  {
   "cell_type": "markdown",
   "id": "ce9c5f34",
   "metadata": {},
   "source": [
    ">Try to build your own loop that prints the individual letters in a string. *Hint: Python is clever enough to do this without making a list first*"
   ]
  },
  {
   "cell_type": "code",
   "execution_count": 28,
   "id": "157a7ca5",
   "metadata": {},
   "outputs": [
    {
     "name": "stdout",
     "output_type": "stream",
     "text": [
      "T\n",
      "o\n",
      " \n",
      "b\n",
      "e\n",
      " \n",
      "o\n",
      "r\n",
      " \n",
      "n\n",
      "o\n",
      "t\n",
      " \n",
      "t\n",
      "o\n",
      " \n",
      "b\n",
      "e\n",
      ",\n",
      " \n",
      "t\n",
      "h\n",
      "a\n",
      "t\n",
      " \n",
      "i\n",
      "s\n",
      " \n",
      "t\n",
      "h\n",
      "e\n",
      " \n",
      "q\n",
      "u\n",
      "e\n",
      "s\n",
      "t\n",
      "i\n",
      "o\n",
      "n\n"
     ]
    }
   ],
   "source": [
    "# for\n",
    "for character in mystring:\n",
    "    print(character)"
   ]
  },
  {
   "cell_type": "markdown",
   "id": "2d845813",
   "metadata": {},
   "source": [
    ">Try defining your own function that takes 2 arguments and adds them together."
   ]
  },
  {
   "cell_type": "code",
   "execution_count": 29,
   "id": "0a58de26",
   "metadata": {},
   "outputs": [],
   "source": [
    "def add_me(a,b):\n",
    "    return(a+b)\n"
   ]
  },
  {
   "cell_type": "code",
   "execution_count": 30,
   "id": "0649fabb",
   "metadata": {},
   "outputs": [
    {
     "data": {
      "text/plain": [
       "18"
      ]
     },
     "execution_count": 30,
     "metadata": {},
     "output_type": "execute_result"
    }
   ],
   "source": [
    "add_me(7,11)"
   ]
  },
  {
   "cell_type": "markdown",
   "id": "3e1bc56e",
   "metadata": {},
   "source": [
    "Putting loops and functions together is where python can become very powerful."
   ]
  },
  {
   "cell_type": "code",
   "execution_count": 31,
   "id": "41dcfb98",
   "metadata": {},
   "outputs": [
    {
     "name": "stdout",
     "output_type": "stream",
     "text": [
      "0\n",
      "1\n",
      "4\n",
      "9\n"
     ]
    }
   ],
   "source": [
    "# Looping over a function\n",
    "for i in [0,1,2,3]:\n",
    "    print(square_me(i)) "
   ]
  },
  {
   "cell_type": "code",
   "execution_count": 32,
   "id": "85291335",
   "metadata": {},
   "outputs": [],
   "source": [
    "# A function with a loop\n",
    "def print_numbers(start,stop):\n",
    "    for i in range(start,stop): #Here the range() function gives us all the values from start up to but excluding the stop value\n",
    "        print(i) # this is indented twice, so Python knows it is within the loop within the function"
   ]
  },
  {
   "cell_type": "code",
   "execution_count": 33,
   "id": "a66aed62",
   "metadata": {},
   "outputs": [
    {
     "name": "stdout",
     "output_type": "stream",
     "text": [
      "0\n",
      "1\n",
      "2\n",
      "3\n"
     ]
    }
   ],
   "source": [
    "print_numbers(0,4)"
   ]
  },
  {
   "cell_type": "markdown",
   "id": "895bb706",
   "metadata": {
    "tags": []
   },
   "source": [
    ">Define a function that uses a loop to add the squares of the numbers 0 to n. (e.g. with n = 3, return 0+1+4+9 = 14)"
   ]
  },
  {
   "cell_type": "code",
   "execution_count": 34,
   "id": "e286fa2e-7375-48d6-a9b2-9b0f389915b6",
   "metadata": {},
   "outputs": [],
   "source": [
    "def add_square(n):\n",
    "    sm = 0\n",
    "    for i in range(1, n+1):\n",
    "        sm = sm + (i * i)\n",
    " \n",
    "    return sm"
   ]
  },
  {
   "cell_type": "code",
   "execution_count": 35,
   "id": "7b7af6ef-e511-474f-a50a-e549e1e4afd6",
   "metadata": {},
   "outputs": [
    {
     "data": {
      "text/plain": [
       "14"
      ]
     },
     "execution_count": 35,
     "metadata": {},
     "output_type": "execute_result"
    }
   ],
   "source": [
    "add_square(3)"
   ]
  },
  {
   "cell_type": "markdown",
   "id": "a4c5ef79",
   "metadata": {},
   "source": [
    "# Libraries"
   ]
  },
  {
   "cell_type": "markdown",
   "id": "1b775f83",
   "metadata": {},
   "source": [
    "Libraries are pre-written chunks of code designed to be integrated into projects for a specific purpose.  The idea is to keep people from having to reinvent the wheel every time they want to write a program.  When we encounter situations where a libary might be useful, we use the keyword *import* to tell the program that we want to use this pre-existing code.  As an example, in the next section you will use a library called Pandas which helps visualize data and make it easier to digest, which is very useful for us.  Because of this, we will import that code into this program simply by running the cell with the import that goes with that code.  Here is what you will see, only in commented code."
   ]
  },
  {
   "cell_type": "code",
   "execution_count": 36,
   "id": "17239dd8",
   "metadata": {},
   "outputs": [],
   "source": [
    "import pandas as pd\n",
    "\n",
    "#by using the keyword *as* and giving pandas an alternative name (pd) in this program, it allows us to use the\n",
    "#functions within pandas while only having to type our pd instead of pandas every time."
   ]
  },
  {
   "cell_type": "markdown",
   "id": "723477ab",
   "metadata": {},
   "source": [
    "Most programming languages have libraries that allow you to import code this way, and it will save you a lot of time and allow you to quickly use many new functions that are highly polished."
   ]
  },
  {
   "cell_type": "markdown",
   "id": "b0467f56",
   "metadata": {},
   "source": [
    "# DataFrames and Pandas"
   ]
  },
  {
   "cell_type": "markdown",
   "id": "4e233312",
   "metadata": {},
   "source": [
    "Now it is time to use what we have learned to start doing some data science.\n",
    "\n",
    "Pandas is the name of a library in which there are functions and tools for doing operations common in data analysis and data science. One particularly great feature is the DataFrame structure which allows us to work with an object similar to an Excel spreadsheet but with the flexibility and power of Python behind it.\n",
    "\n",
    "First we will need to import the Pandas library and create a DataFrame. DataFrames are can also be created when you import files (like CSV's) or tables from a database (like SQL)."
   ]
  },
  {
   "cell_type": "code",
   "execution_count": 37,
   "id": "8d41769f",
   "metadata": {},
   "outputs": [],
   "source": [
    "import pandas as pd"
   ]
  },
  {
   "cell_type": "code",
   "execution_count": 38,
   "id": "a1bf3b5c",
   "metadata": {},
   "outputs": [
    {
     "data": {
      "text/html": [
       "<div>\n",
       "<style scoped>\n",
       "    .dataframe tbody tr th:only-of-type {\n",
       "        vertical-align: middle;\n",
       "    }\n",
       "\n",
       "    .dataframe tbody tr th {\n",
       "        vertical-align: top;\n",
       "    }\n",
       "\n",
       "    .dataframe thead th {\n",
       "        text-align: right;\n",
       "    }\n",
       "</style>\n",
       "<table border=\"1\" class=\"dataframe\">\n",
       "  <thead>\n",
       "    <tr style=\"text-align: right;\">\n",
       "      <th></th>\n",
       "      <th>Books</th>\n",
       "      <th>Words</th>\n",
       "    </tr>\n",
       "  </thead>\n",
       "  <tbody>\n",
       "    <tr>\n",
       "      <th>0</th>\n",
       "      <td>The Silmarillion</td>\n",
       "      <td>130115</td>\n",
       "    </tr>\n",
       "    <tr>\n",
       "      <th>1</th>\n",
       "      <td>The Hobbit</td>\n",
       "      <td>95506</td>\n",
       "    </tr>\n",
       "    <tr>\n",
       "      <th>2</th>\n",
       "      <td>The Fellowship of the Ring</td>\n",
       "      <td>187726</td>\n",
       "    </tr>\n",
       "    <tr>\n",
       "      <th>3</th>\n",
       "      <td>The Two Towers</td>\n",
       "      <td>156147</td>\n",
       "    </tr>\n",
       "    <tr>\n",
       "      <th>4</th>\n",
       "      <td>The Return of the King</td>\n",
       "      <td>137037</td>\n",
       "    </tr>\n",
       "  </tbody>\n",
       "</table>\n",
       "</div>"
      ],
      "text/plain": [
       "                        Books   Words\n",
       "0            The Silmarillion  130115\n",
       "1                  The Hobbit   95506\n",
       "2  The Fellowship of the Ring  187726\n",
       "3              The Two Towers  156147\n",
       "4      The Return of the King  137037"
      ]
     },
     "execution_count": 38,
     "metadata": {},
     "output_type": "execute_result"
    }
   ],
   "source": [
    "#Notice here the data is a dictionary, similar to the one we used above but with the titles and wordcounts as nested lists\n",
    "d = {\"Books\":[\"The Silmarillion\",\"The Hobbit\",\"The Fellowship of the Ring\",\"The Two Towers\",\"The Return of the King\"],\n",
    "     \"Words\":[130115,95506,187726,156147,137037]\n",
    "    }\n",
    "df = pd.DataFrame(d)\n",
    "df"
   ]
  },
  {
   "cell_type": "markdown",
   "id": "f029f9db",
   "metadata": {},
   "source": [
    "Now we can operate on entire rows or columns in our DataFrame."
   ]
  },
  {
   "cell_type": "code",
   "execution_count": 39,
   "id": "7857e15d",
   "metadata": {},
   "outputs": [
    {
     "data": {
      "text/plain": [
       "0              The Silmarillion\n",
       "1                    The Hobbit\n",
       "2    The Fellowship of the Ring\n",
       "3                The Two Towers\n",
       "4        The Return of the King\n",
       "Name: Books, dtype: object"
      ]
     },
     "execution_count": 39,
     "metadata": {},
     "output_type": "execute_result"
    }
   ],
   "source": [
    "df[\"Books\"] #Selecting the column \"Books\""
   ]
  },
  {
   "cell_type": "code",
   "execution_count": 40,
   "id": "086384fb",
   "metadata": {},
   "outputs": [
    {
     "data": {
      "text/html": [
       "<div>\n",
       "<style scoped>\n",
       "    .dataframe tbody tr th:only-of-type {\n",
       "        vertical-align: middle;\n",
       "    }\n",
       "\n",
       "    .dataframe tbody tr th {\n",
       "        vertical-align: top;\n",
       "    }\n",
       "\n",
       "    .dataframe thead th {\n",
       "        text-align: right;\n",
       "    }\n",
       "</style>\n",
       "<table border=\"1\" class=\"dataframe\">\n",
       "  <thead>\n",
       "    <tr style=\"text-align: right;\">\n",
       "      <th></th>\n",
       "      <th>Books</th>\n",
       "      <th>Words</th>\n",
       "    </tr>\n",
       "  </thead>\n",
       "  <tbody>\n",
       "    <tr>\n",
       "      <th>0</th>\n",
       "      <td>The Silmarillion</td>\n",
       "      <td>130115</td>\n",
       "    </tr>\n",
       "    <tr>\n",
       "      <th>1</th>\n",
       "      <td>The Hobbit</td>\n",
       "      <td>95506</td>\n",
       "    </tr>\n",
       "  </tbody>\n",
       "</table>\n",
       "</div>"
      ],
      "text/plain": [
       "              Books   Words\n",
       "0  The Silmarillion  130115\n",
       "1        The Hobbit   95506"
      ]
     },
     "execution_count": 40,
     "metadata": {},
     "output_type": "execute_result"
    }
   ],
   "source": [
    "df[:2] #Selecting the first 2 rows"
   ]
  },
  {
   "cell_type": "code",
   "execution_count": 41,
   "id": "b9e6ab73",
   "metadata": {},
   "outputs": [
    {
     "data": {
      "text/html": [
       "<div>\n",
       "<style scoped>\n",
       "    .dataframe tbody tr th:only-of-type {\n",
       "        vertical-align: middle;\n",
       "    }\n",
       "\n",
       "    .dataframe tbody tr th {\n",
       "        vertical-align: top;\n",
       "    }\n",
       "\n",
       "    .dataframe thead th {\n",
       "        text-align: right;\n",
       "    }\n",
       "</style>\n",
       "<table border=\"1\" class=\"dataframe\">\n",
       "  <thead>\n",
       "    <tr style=\"text-align: right;\">\n",
       "      <th></th>\n",
       "      <th>Books</th>\n",
       "      <th>Words</th>\n",
       "    </tr>\n",
       "  </thead>\n",
       "  <tbody>\n",
       "    <tr>\n",
       "      <th>2</th>\n",
       "      <td>The Fellowship of the Ring</td>\n",
       "      <td>187726</td>\n",
       "    </tr>\n",
       "    <tr>\n",
       "      <th>3</th>\n",
       "      <td>The Two Towers</td>\n",
       "      <td>156147</td>\n",
       "    </tr>\n",
       "  </tbody>\n",
       "</table>\n",
       "</div>"
      ],
      "text/plain": [
       "                        Books   Words\n",
       "2  The Fellowship of the Ring  187726\n",
       "3              The Two Towers  156147"
      ]
     },
     "execution_count": 41,
     "metadata": {},
     "output_type": "execute_result"
    }
   ],
   "source": [
    "df[2:4] #Selecting rows 2 up to 4"
   ]
  },
  {
   "cell_type": "code",
   "execution_count": 42,
   "id": "300e2647",
   "metadata": {},
   "outputs": [
    {
     "data": {
      "text/plain": [
       "2    187726\n",
       "3    156147\n",
       "Name: Words, dtype: int64"
      ]
     },
     "execution_count": 42,
     "metadata": {},
     "output_type": "execute_result"
    }
   ],
   "source": [
    "df[\"Words\"][2:4] #Selecting the second and third row from the \"Words\" column."
   ]
  },
  {
   "cell_type": "code",
   "execution_count": 43,
   "id": "4509bec3",
   "metadata": {},
   "outputs": [
    {
     "data": {
      "text/plain": [
       "2    187726\n",
       "3    156147\n",
       "Name: Words, dtype: int64"
      ]
     },
     "execution_count": 43,
     "metadata": {},
     "output_type": "execute_result"
    }
   ],
   "source": [
    "df[2:4][\"Words\"] #Same result but from the opposite order"
   ]
  },
  {
   "cell_type": "markdown",
   "id": "21c1fcb8",
   "metadata": {},
   "source": [
    "You can also operate on entire columns in your DataFrame. Just be careful because this can give you unexpected results. Rows are generally more consistent for elements within a DataFrame."
   ]
  },
  {
   "cell_type": "code",
   "execution_count": 44,
   "id": "72c00499",
   "metadata": {},
   "outputs": [
    {
     "data": {
      "text/plain": [
       "706531"
      ]
     },
     "execution_count": 44,
     "metadata": {},
     "output_type": "execute_result"
    }
   ],
   "source": [
    "total = sum(df[\"Words\"])\n",
    "total\n"
   ]
  },
  {
   "cell_type": "markdown",
   "id": "fdd108bc",
   "metadata": {},
   "source": [
    "> Use slicing to determine how much longer is the \"Lord of the Rings\" Trilogy than the other two books combined?"
   ]
  },
  {
   "cell_type": "code",
   "execution_count": 86,
   "id": "6cbcec70-6460-4128-b54f-e48d10a9c81b",
   "metadata": {},
   "outputs": [
    {
     "data": {
      "text/plain": [
       "480910"
      ]
     },
     "execution_count": 86,
     "metadata": {},
     "output_type": "execute_result"
    }
   ],
   "source": [
    "lotr=sum(df[2:5][\"Words\"])\n",
    "lotr"
   ]
  },
  {
   "cell_type": "code",
   "execution_count": 88,
   "id": "c8acdeec-ca2a-43ab-b257-625e8d5b1d59",
   "metadata": {},
   "outputs": [
    {
     "data": {
      "text/plain": [
       "255289"
      ]
     },
     "execution_count": 88,
     "metadata": {},
     "output_type": "execute_result"
    }
   ],
   "source": [
    "sh=sum(df[\"Words\"][0:2])\n",
    "sh\n",
    "lotr-sh"
   ]
  },
  {
   "cell_type": "markdown",
   "id": "0bbee226",
   "metadata": {},
   "source": [
    "## More Complex Data"
   ]
  },
  {
   "cell_type": "markdown",
   "id": "4e9616d1",
   "metadata": {},
   "source": [
    "To look at slightly more complex data operations, we need more complex data.\n",
    "\n",
    "Below we have all the chapters from the Hobbit and Lord of the Rings books along with their word counts. Notice that each chapter is a list of information and then each of those list is an element in a larger list."
   ]
  },
  {
   "cell_type": "code",
   "execution_count": 47,
   "id": "7d8cbab4",
   "metadata": {},
   "outputs": [],
   "source": [
    "chapters = [[0,1,'An Unexpected Party',8638,0],\n",
    "            [0,2,'Roast Mutton',5257,0],\n",
    "            [0,3,'A Short Rest',2876,0],\n",
    "            [0,4,'Over Hill and Under Hill',4034,0],\n",
    "            [0,5,'Riddles in the Dark',6967,0],\n",
    "            [0,6,'Out of the Frying Pan into the Fire',6703,0],\n",
    "            [0,7,'Queer Lodgings',9027,0],\n",
    "            [0,8,'Flies and Spiders',10223,0],\n",
    "            [0,9,'Barrels Out of Bond',5833,0],\n",
    "            [0,10,'A Warm Welcome',3930,0],\n",
    "            [0,11,'On the Doorstep',3001,0],\n",
    "            [0,12,'Inside Information',7132,0],\n",
    "            [0,13,'Not At Home',3909,0],\n",
    "            [0,14,'Fire and Water',3236,0],\n",
    "            [0,15,'The Gathering of the Clouds',3362,0],\n",
    "            [0,16,'A Thief in the Night',2153,0],\n",
    "            [0,17,'The Clouds Burst',3949,0],\n",
    "            [0,18,'The Return Journey',2815,0],\n",
    "            [0,19,'The Last Stage',2461,0],\n",
    "            [1,-4,'Concerning Hobbits',3406,1],\n",
    "            [1,-3,'Concerning Pipeweed',600,1],\n",
    "            [1,-2,'Of the Ordering of the Shire',2431,1],\n",
    "            [1,-1,'Note on the Shire Records',914,1],\n",
    "            [1,1,'A Long-expected Party',10012,1],\n",
    "            [1,2,'The Shadow of the Past',11311,1],\n",
    "            [1,3,'Three is Company',9763,1],\n",
    "            [1,4,'A Short Cut to Mushrooms',5957,1],\n",
    "            [1,5,'A Conspiracy Unmasked',5196,1],\n",
    "            [1,6,'The Old Forest',6502,1],\n",
    "            [1,7,'In the House of Tom Bombadil',5501,1],\n",
    "            [1,8,'Fog on the Barrow-downs',6694,1],\n",
    "            [1,9,'At the Sign of the Prancing Pony',6251,1],\n",
    "            [1,10,'Strider',5905,1],\n",
    "            [1,11,'A Knife in the Dark',9468,1],\n",
    "            [1,12,'Flight to the Ford',8805,1],\n",
    "            [1,1,'Many Meetings',9085,2],\n",
    "            [1,2,'The Council of Elrond',16360,2],\n",
    "            [1,3,'The Ring goes South',10656,2],\n",
    "            [1,4,'A Journey in the Dark',11501,2],\n",
    "            [1,5,'The Bridge of Khazad-dum',5428,2],\n",
    "            [1,6,'Lothlorien',9387,2],\n",
    "            [1,7,'The Mirror of Gladriel',6896,2],\n",
    "            [1,8,'Farewell to Lorien',6174,2],\n",
    "            [1,9,'The Great River',7218,2],\n",
    "            [1,10,'The Breaking of the Fellowship',6305,2],\n",
    "            [2,1,'The Departure of Boromir',3397,3],\n",
    "            [2,2,'The Riders of Rohan',11133,3],\n",
    "            [2,3,'The Uruk-hai',7854,3],\n",
    "            [2,4,'Treebeard',12876,3],\n",
    "            [2,5,'The White Rider',8856,3],\n",
    "            [2,6,'The King of the Golden Hall',9303,3],\n",
    "            [2,7,\"Helm's Deep\",7575,3],\n",
    "            [2,8,'The Road to Isengard',7899,3],\n",
    "            [2,9,'Flotsam and Jetsam',7789,3],\n",
    "            [2,10,'The Voice of Saruman',5663,3],\n",
    "            [2,11,'The Palantir',6325,3],\n",
    "            [2,1,'The Taming of Smeagol',8375,4],\n",
    "            [2,2,'The Passage of the Marshes',7357,4],\n",
    "            [2,3,'The Black Gate is Closed',5881,4],\n",
    "            [2,4,'Of Herbs and Stewed Rabbit',6975,4],\n",
    "            [2,5,'The Window on the West',10120,4],\n",
    "            [2,6,'The Forbidden Pool',5179,4],\n",
    "            [2,7,'Journey to the Crossroads',4266,4],\n",
    "            [2,8,'The Stairs of Cirith Ungol',6793,4],\n",
    "            [2,9,\"Shelob's Lair\",5209,4],\n",
    "            [2,10,'The Choices of Master Samwise',7322,4],\n",
    "            [3,1,'Minas Tirith',13100,5],\n",
    "            [3,2,'The Passing of the Grey Company',8586,5],\n",
    "            [3,3,'The Muster of Rohan',6951,5],\n",
    "            [3,4,'The Siege of Gondor',11793,5],\n",
    "            [3,5,'The Ride of the Rohirrim',4358,5],\n",
    "            [3,6,'The Battle of the Pelennor Fields',5225,5],\n",
    "            [3,7,'The Pyre of Denethor',3736,5],\n",
    "            [3,8,'The Houses of Healing',6731,5],\n",
    "            [3,9,'The Last Debate',5416,5],\n",
    "            [3,10,'The Black Gate Opens',5204,5],\n",
    "            [3,1,'The Tower of Cirith Ungol',9721,6],\n",
    "            [3,2,'The Land of Shadow',8446,6],\n",
    "            [3,3,'Mount Doom',7777,6],\n",
    "            [3,4,'The Field of Cormallen',4721,6],\n",
    "            [3,5,'The Steward and the King',7639,6],\n",
    "            [3,6,'Many Partings',7440,6],\n",
    "            [3,7,'Homeward Bound',4106,6],\n",
    "            [3,8,'The Scouring of the Shire',11296,6],\n",
    "            [3,9,'The Grey Havens',4791,6]\n",
    "           ]"
   ]
  },
  {
   "cell_type": "markdown",
   "id": "4f471fe1",
   "metadata": {},
   "source": [
    "Now we can turn the list of the lists into a dataframe. We have also named our columns. This isn't necessary but it does make things clearer to work with."
   ]
  },
  {
   "cell_type": "code",
   "execution_count": 48,
   "id": "09504f1a",
   "metadata": {},
   "outputs": [],
   "source": [
    "cols = ['CollectionNum','ChapterNum','ChapterName','WordCount','BookNum']\n",
    "data = pd.DataFrame(chapters, columns=cols)"
   ]
  },
  {
   "cell_type": "code",
   "execution_count": 49,
   "id": "1a8b804b",
   "metadata": {},
   "outputs": [
    {
     "data": {
      "text/html": [
       "<div>\n",
       "<style scoped>\n",
       "    .dataframe tbody tr th:only-of-type {\n",
       "        vertical-align: middle;\n",
       "    }\n",
       "\n",
       "    .dataframe tbody tr th {\n",
       "        vertical-align: top;\n",
       "    }\n",
       "\n",
       "    .dataframe thead th {\n",
       "        text-align: right;\n",
       "    }\n",
       "</style>\n",
       "<table border=\"1\" class=\"dataframe\">\n",
       "  <thead>\n",
       "    <tr style=\"text-align: right;\">\n",
       "      <th></th>\n",
       "      <th>CollectionNum</th>\n",
       "      <th>ChapterNum</th>\n",
       "      <th>ChapterName</th>\n",
       "      <th>WordCount</th>\n",
       "      <th>BookNum</th>\n",
       "    </tr>\n",
       "  </thead>\n",
       "  <tbody>\n",
       "    <tr>\n",
       "      <th>0</th>\n",
       "      <td>0</td>\n",
       "      <td>1</td>\n",
       "      <td>An Unexpected Party</td>\n",
       "      <td>8638</td>\n",
       "      <td>0</td>\n",
       "    </tr>\n",
       "    <tr>\n",
       "      <th>1</th>\n",
       "      <td>0</td>\n",
       "      <td>2</td>\n",
       "      <td>Roast Mutton</td>\n",
       "      <td>5257</td>\n",
       "      <td>0</td>\n",
       "    </tr>\n",
       "    <tr>\n",
       "      <th>2</th>\n",
       "      <td>0</td>\n",
       "      <td>3</td>\n",
       "      <td>A Short Rest</td>\n",
       "      <td>2876</td>\n",
       "      <td>0</td>\n",
       "    </tr>\n",
       "    <tr>\n",
       "      <th>3</th>\n",
       "      <td>0</td>\n",
       "      <td>4</td>\n",
       "      <td>Over Hill and Under Hill</td>\n",
       "      <td>4034</td>\n",
       "      <td>0</td>\n",
       "    </tr>\n",
       "    <tr>\n",
       "      <th>4</th>\n",
       "      <td>0</td>\n",
       "      <td>5</td>\n",
       "      <td>Riddles in the Dark</td>\n",
       "      <td>6967</td>\n",
       "      <td>0</td>\n",
       "    </tr>\n",
       "    <tr>\n",
       "      <th>...</th>\n",
       "      <td>...</td>\n",
       "      <td>...</td>\n",
       "      <td>...</td>\n",
       "      <td>...</td>\n",
       "      <td>...</td>\n",
       "    </tr>\n",
       "    <tr>\n",
       "      <th>80</th>\n",
       "      <td>3</td>\n",
       "      <td>5</td>\n",
       "      <td>The Steward and the King</td>\n",
       "      <td>7639</td>\n",
       "      <td>6</td>\n",
       "    </tr>\n",
       "    <tr>\n",
       "      <th>81</th>\n",
       "      <td>3</td>\n",
       "      <td>6</td>\n",
       "      <td>Many Partings</td>\n",
       "      <td>7440</td>\n",
       "      <td>6</td>\n",
       "    </tr>\n",
       "    <tr>\n",
       "      <th>82</th>\n",
       "      <td>3</td>\n",
       "      <td>7</td>\n",
       "      <td>Homeward Bound</td>\n",
       "      <td>4106</td>\n",
       "      <td>6</td>\n",
       "    </tr>\n",
       "    <tr>\n",
       "      <th>83</th>\n",
       "      <td>3</td>\n",
       "      <td>8</td>\n",
       "      <td>The Scouring of the Shire</td>\n",
       "      <td>11296</td>\n",
       "      <td>6</td>\n",
       "    </tr>\n",
       "    <tr>\n",
       "      <th>84</th>\n",
       "      <td>3</td>\n",
       "      <td>9</td>\n",
       "      <td>The Grey Havens</td>\n",
       "      <td>4791</td>\n",
       "      <td>6</td>\n",
       "    </tr>\n",
       "  </tbody>\n",
       "</table>\n",
       "<p>85 rows × 5 columns</p>\n",
       "</div>"
      ],
      "text/plain": [
       "    CollectionNum  ChapterNum                ChapterName  WordCount  BookNum\n",
       "0               0           1        An Unexpected Party       8638        0\n",
       "1               0           2               Roast Mutton       5257        0\n",
       "2               0           3               A Short Rest       2876        0\n",
       "3               0           4   Over Hill and Under Hill       4034        0\n",
       "4               0           5        Riddles in the Dark       6967        0\n",
       "..            ...         ...                        ...        ...      ...\n",
       "80              3           5   The Steward and the King       7639        6\n",
       "81              3           6              Many Partings       7440        6\n",
       "82              3           7             Homeward Bound       4106        6\n",
       "83              3           8  The Scouring of the Shire      11296        6\n",
       "84              3           9            The Grey Havens       4791        6\n",
       "\n",
       "[85 rows x 5 columns]"
      ]
     },
     "execution_count": 49,
     "metadata": {},
     "output_type": "execute_result"
    }
   ],
   "source": [
    "data"
   ]
  },
  {
   "cell_type": "markdown",
   "id": "d23c1119",
   "metadata": {},
   "source": [
    "Now we might want to apply the names of each of the traditional \"books\" you might think of when you think about the Lord of the Rings. To do this we need to use a function that is very powerful and flexible: [apply](https://pandas.pydata.org/docs/reference/api/pandas.DataFrame.apply.html). This function will allow us to apply an operation or function to each value in a column and save it into a new column. In this example, our \"function\" is using our *CollectionNum* to reference a book name in our list *titles*."
   ]
  },
  {
   "cell_type": "code",
   "execution_count": 50,
   "id": "21a64f2f-dd02-465d-b0e7-68323320e79d",
   "metadata": {},
   "outputs": [],
   "source": [
    "#The structure of the apply function is: `apply(lambda *variable* : *function*(*variable*) )`\n",
    "#Where the variable represents the value in each row and the opertaion of function will return a value that can be stored in our new column."
   ]
  },
  {
   "cell_type": "code",
   "execution_count": 51,
   "id": "97c6113d",
   "metadata": {
    "tags": []
   },
   "outputs": [
    {
     "data": {
      "text/html": [
       "<div>\n",
       "<style scoped>\n",
       "    .dataframe tbody tr th:only-of-type {\n",
       "        vertical-align: middle;\n",
       "    }\n",
       "\n",
       "    .dataframe tbody tr th {\n",
       "        vertical-align: top;\n",
       "    }\n",
       "\n",
       "    .dataframe thead th {\n",
       "        text-align: right;\n",
       "    }\n",
       "</style>\n",
       "<table border=\"1\" class=\"dataframe\">\n",
       "  <thead>\n",
       "    <tr style=\"text-align: right;\">\n",
       "      <th></th>\n",
       "      <th>CollectionNum</th>\n",
       "      <th>ChapterNum</th>\n",
       "      <th>ChapterName</th>\n",
       "      <th>WordCount</th>\n",
       "      <th>BookNum</th>\n",
       "      <th>CollectionName</th>\n",
       "    </tr>\n",
       "  </thead>\n",
       "  <tbody>\n",
       "    <tr>\n",
       "      <th>0</th>\n",
       "      <td>0</td>\n",
       "      <td>1</td>\n",
       "      <td>An Unexpected Party</td>\n",
       "      <td>8638</td>\n",
       "      <td>0</td>\n",
       "      <td>The Hobbit</td>\n",
       "    </tr>\n",
       "    <tr>\n",
       "      <th>1</th>\n",
       "      <td>0</td>\n",
       "      <td>2</td>\n",
       "      <td>Roast Mutton</td>\n",
       "      <td>5257</td>\n",
       "      <td>0</td>\n",
       "      <td>The Hobbit</td>\n",
       "    </tr>\n",
       "    <tr>\n",
       "      <th>2</th>\n",
       "      <td>0</td>\n",
       "      <td>3</td>\n",
       "      <td>A Short Rest</td>\n",
       "      <td>2876</td>\n",
       "      <td>0</td>\n",
       "      <td>The Hobbit</td>\n",
       "    </tr>\n",
       "    <tr>\n",
       "      <th>3</th>\n",
       "      <td>0</td>\n",
       "      <td>4</td>\n",
       "      <td>Over Hill and Under Hill</td>\n",
       "      <td>4034</td>\n",
       "      <td>0</td>\n",
       "      <td>The Hobbit</td>\n",
       "    </tr>\n",
       "    <tr>\n",
       "      <th>4</th>\n",
       "      <td>0</td>\n",
       "      <td>5</td>\n",
       "      <td>Riddles in the Dark</td>\n",
       "      <td>6967</td>\n",
       "      <td>0</td>\n",
       "      <td>The Hobbit</td>\n",
       "    </tr>\n",
       "    <tr>\n",
       "      <th>...</th>\n",
       "      <td>...</td>\n",
       "      <td>...</td>\n",
       "      <td>...</td>\n",
       "      <td>...</td>\n",
       "      <td>...</td>\n",
       "      <td>...</td>\n",
       "    </tr>\n",
       "    <tr>\n",
       "      <th>80</th>\n",
       "      <td>3</td>\n",
       "      <td>5</td>\n",
       "      <td>The Steward and the King</td>\n",
       "      <td>7639</td>\n",
       "      <td>6</td>\n",
       "      <td>The Return of the King</td>\n",
       "    </tr>\n",
       "    <tr>\n",
       "      <th>81</th>\n",
       "      <td>3</td>\n",
       "      <td>6</td>\n",
       "      <td>Many Partings</td>\n",
       "      <td>7440</td>\n",
       "      <td>6</td>\n",
       "      <td>The Return of the King</td>\n",
       "    </tr>\n",
       "    <tr>\n",
       "      <th>82</th>\n",
       "      <td>3</td>\n",
       "      <td>7</td>\n",
       "      <td>Homeward Bound</td>\n",
       "      <td>4106</td>\n",
       "      <td>6</td>\n",
       "      <td>The Return of the King</td>\n",
       "    </tr>\n",
       "    <tr>\n",
       "      <th>83</th>\n",
       "      <td>3</td>\n",
       "      <td>8</td>\n",
       "      <td>The Scouring of the Shire</td>\n",
       "      <td>11296</td>\n",
       "      <td>6</td>\n",
       "      <td>The Return of the King</td>\n",
       "    </tr>\n",
       "    <tr>\n",
       "      <th>84</th>\n",
       "      <td>3</td>\n",
       "      <td>9</td>\n",
       "      <td>The Grey Havens</td>\n",
       "      <td>4791</td>\n",
       "      <td>6</td>\n",
       "      <td>The Return of the King</td>\n",
       "    </tr>\n",
       "  </tbody>\n",
       "</table>\n",
       "<p>85 rows × 6 columns</p>\n",
       "</div>"
      ],
      "text/plain": [
       "    CollectionNum  ChapterNum                ChapterName  WordCount  BookNum  \\\n",
       "0               0           1        An Unexpected Party       8638        0   \n",
       "1               0           2               Roast Mutton       5257        0   \n",
       "2               0           3               A Short Rest       2876        0   \n",
       "3               0           4   Over Hill and Under Hill       4034        0   \n",
       "4               0           5        Riddles in the Dark       6967        0   \n",
       "..            ...         ...                        ...        ...      ...   \n",
       "80              3           5   The Steward and the King       7639        6   \n",
       "81              3           6              Many Partings       7440        6   \n",
       "82              3           7             Homeward Bound       4106        6   \n",
       "83              3           8  The Scouring of the Shire      11296        6   \n",
       "84              3           9            The Grey Havens       4791        6   \n",
       "\n",
       "            CollectionName  \n",
       "0               The Hobbit  \n",
       "1               The Hobbit  \n",
       "2               The Hobbit  \n",
       "3               The Hobbit  \n",
       "4               The Hobbit  \n",
       "..                     ...  \n",
       "80  The Return of the King  \n",
       "81  The Return of the King  \n",
       "82  The Return of the King  \n",
       "83  The Return of the King  \n",
       "84  The Return of the King  \n",
       "\n",
       "[85 rows x 6 columns]"
      ]
     },
     "execution_count": 51,
     "metadata": {},
     "output_type": "execute_result"
    }
   ],
   "source": [
    "titles = ['The Hobbit','The Fellowship of the Ring', 'The Two Towers', 'The Return of the King']\n",
    "data['CollectionName']=data['CollectionNum'].apply(lambda x: titles[x])\n",
    "data"
   ]
  },
  {
   "cell_type": "markdown",
   "id": "14536c81",
   "metadata": {},
   "source": [
    "> Can you use apply to estimate the time it takes to read each chapter? How long would it take to read all the chapters? Assume someone reads at 225 words per minute."
   ]
  },
  {
   "cell_type": "code",
   "execution_count": 52,
   "id": "26bf8228-59ca-4f71-9581-2c6b30768b19",
   "metadata": {},
   "outputs": [
    {
     "data": {
      "text/html": [
       "<div>\n",
       "<style scoped>\n",
       "    .dataframe tbody tr th:only-of-type {\n",
       "        vertical-align: middle;\n",
       "    }\n",
       "\n",
       "    .dataframe tbody tr th {\n",
       "        vertical-align: top;\n",
       "    }\n",
       "\n",
       "    .dataframe thead th {\n",
       "        text-align: right;\n",
       "    }\n",
       "</style>\n",
       "<table border=\"1\" class=\"dataframe\">\n",
       "  <thead>\n",
       "    <tr style=\"text-align: right;\">\n",
       "      <th></th>\n",
       "      <th>CollectionNum</th>\n",
       "      <th>ChapterNum</th>\n",
       "      <th>ChapterName</th>\n",
       "      <th>WordCount</th>\n",
       "      <th>BookNum</th>\n",
       "      <th>CollectionName</th>\n",
       "      <th>ReadTime</th>\n",
       "    </tr>\n",
       "  </thead>\n",
       "  <tbody>\n",
       "    <tr>\n",
       "      <th>0</th>\n",
       "      <td>0</td>\n",
       "      <td>1</td>\n",
       "      <td>An Unexpected Party</td>\n",
       "      <td>8638</td>\n",
       "      <td>0</td>\n",
       "      <td>The Hobbit</td>\n",
       "      <td>38.391111</td>\n",
       "    </tr>\n",
       "    <tr>\n",
       "      <th>1</th>\n",
       "      <td>0</td>\n",
       "      <td>2</td>\n",
       "      <td>Roast Mutton</td>\n",
       "      <td>5257</td>\n",
       "      <td>0</td>\n",
       "      <td>The Hobbit</td>\n",
       "      <td>23.364444</td>\n",
       "    </tr>\n",
       "    <tr>\n",
       "      <th>2</th>\n",
       "      <td>0</td>\n",
       "      <td>3</td>\n",
       "      <td>A Short Rest</td>\n",
       "      <td>2876</td>\n",
       "      <td>0</td>\n",
       "      <td>The Hobbit</td>\n",
       "      <td>12.782222</td>\n",
       "    </tr>\n",
       "    <tr>\n",
       "      <th>3</th>\n",
       "      <td>0</td>\n",
       "      <td>4</td>\n",
       "      <td>Over Hill and Under Hill</td>\n",
       "      <td>4034</td>\n",
       "      <td>0</td>\n",
       "      <td>The Hobbit</td>\n",
       "      <td>17.928889</td>\n",
       "    </tr>\n",
       "    <tr>\n",
       "      <th>4</th>\n",
       "      <td>0</td>\n",
       "      <td>5</td>\n",
       "      <td>Riddles in the Dark</td>\n",
       "      <td>6967</td>\n",
       "      <td>0</td>\n",
       "      <td>The Hobbit</td>\n",
       "      <td>30.964444</td>\n",
       "    </tr>\n",
       "    <tr>\n",
       "      <th>...</th>\n",
       "      <td>...</td>\n",
       "      <td>...</td>\n",
       "      <td>...</td>\n",
       "      <td>...</td>\n",
       "      <td>...</td>\n",
       "      <td>...</td>\n",
       "      <td>...</td>\n",
       "    </tr>\n",
       "    <tr>\n",
       "      <th>80</th>\n",
       "      <td>3</td>\n",
       "      <td>5</td>\n",
       "      <td>The Steward and the King</td>\n",
       "      <td>7639</td>\n",
       "      <td>6</td>\n",
       "      <td>The Return of the King</td>\n",
       "      <td>33.951111</td>\n",
       "    </tr>\n",
       "    <tr>\n",
       "      <th>81</th>\n",
       "      <td>3</td>\n",
       "      <td>6</td>\n",
       "      <td>Many Partings</td>\n",
       "      <td>7440</td>\n",
       "      <td>6</td>\n",
       "      <td>The Return of the King</td>\n",
       "      <td>33.066667</td>\n",
       "    </tr>\n",
       "    <tr>\n",
       "      <th>82</th>\n",
       "      <td>3</td>\n",
       "      <td>7</td>\n",
       "      <td>Homeward Bound</td>\n",
       "      <td>4106</td>\n",
       "      <td>6</td>\n",
       "      <td>The Return of the King</td>\n",
       "      <td>18.248889</td>\n",
       "    </tr>\n",
       "    <tr>\n",
       "      <th>83</th>\n",
       "      <td>3</td>\n",
       "      <td>8</td>\n",
       "      <td>The Scouring of the Shire</td>\n",
       "      <td>11296</td>\n",
       "      <td>6</td>\n",
       "      <td>The Return of the King</td>\n",
       "      <td>50.204444</td>\n",
       "    </tr>\n",
       "    <tr>\n",
       "      <th>84</th>\n",
       "      <td>3</td>\n",
       "      <td>9</td>\n",
       "      <td>The Grey Havens</td>\n",
       "      <td>4791</td>\n",
       "      <td>6</td>\n",
       "      <td>The Return of the King</td>\n",
       "      <td>21.293333</td>\n",
       "    </tr>\n",
       "  </tbody>\n",
       "</table>\n",
       "<p>85 rows × 7 columns</p>\n",
       "</div>"
      ],
      "text/plain": [
       "    CollectionNum  ChapterNum                ChapterName  WordCount  BookNum  \\\n",
       "0               0           1        An Unexpected Party       8638        0   \n",
       "1               0           2               Roast Mutton       5257        0   \n",
       "2               0           3               A Short Rest       2876        0   \n",
       "3               0           4   Over Hill and Under Hill       4034        0   \n",
       "4               0           5        Riddles in the Dark       6967        0   \n",
       "..            ...         ...                        ...        ...      ...   \n",
       "80              3           5   The Steward and the King       7639        6   \n",
       "81              3           6              Many Partings       7440        6   \n",
       "82              3           7             Homeward Bound       4106        6   \n",
       "83              3           8  The Scouring of the Shire      11296        6   \n",
       "84              3           9            The Grey Havens       4791        6   \n",
       "\n",
       "            CollectionName   ReadTime  \n",
       "0               The Hobbit  38.391111  \n",
       "1               The Hobbit  23.364444  \n",
       "2               The Hobbit  12.782222  \n",
       "3               The Hobbit  17.928889  \n",
       "4               The Hobbit  30.964444  \n",
       "..                     ...        ...  \n",
       "80  The Return of the King  33.951111  \n",
       "81  The Return of the King  33.066667  \n",
       "82  The Return of the King  18.248889  \n",
       "83  The Return of the King  50.204444  \n",
       "84  The Return of the King  21.293333  \n",
       "\n",
       "[85 rows x 7 columns]"
      ]
     },
     "execution_count": 52,
     "metadata": {},
     "output_type": "execute_result"
    }
   ],
   "source": [
    "def time(x):\n",
    "    return x/225\n",
    "data['ReadTime']=data['WordCount'].apply(lambda x: time(x), 2)\n",
    "data"
   ]
  },
  {
   "cell_type": "markdown",
   "id": "47c65bb7",
   "metadata": {},
   "source": [
    "## [GroupBy](https://pandas.pydata.org/pandas-docs/stable/reference/api/pandas.DataFrame.groupby.html)"
   ]
  },
  {
   "cell_type": "markdown",
   "id": "b5238f9a",
   "metadata": {},
   "source": [
    "Now that we have data for each of the chapters, we can group them using groupby. This lets us do aggregate operations like \"add all the wordcounts for each book\" or \"count how many chapters there are in each book\".\n",
    "\n",
    "Groupby is a powerful tool but if you don't understand your data, it can quickly introduce errors."
   ]
  },
  {
   "cell_type": "code",
   "execution_count": 53,
   "id": "6c4b9f46",
   "metadata": {},
   "outputs": [
    {
     "data": {
      "text/html": [
       "<div>\n",
       "<style scoped>\n",
       "    .dataframe tbody tr th:only-of-type {\n",
       "        vertical-align: middle;\n",
       "    }\n",
       "\n",
       "    .dataframe tbody tr th {\n",
       "        vertical-align: top;\n",
       "    }\n",
       "\n",
       "    .dataframe thead th {\n",
       "        text-align: right;\n",
       "    }\n",
       "</style>\n",
       "<table border=\"1\" class=\"dataframe\">\n",
       "  <thead>\n",
       "    <tr style=\"text-align: right;\">\n",
       "      <th></th>\n",
       "      <th>CollectionNum</th>\n",
       "      <th>ChapterNum</th>\n",
       "      <th>ChapterName</th>\n",
       "      <th>WordCount</th>\n",
       "      <th>BookNum</th>\n",
       "      <th>ReadTime</th>\n",
       "    </tr>\n",
       "    <tr>\n",
       "      <th>CollectionName</th>\n",
       "      <th></th>\n",
       "      <th></th>\n",
       "      <th></th>\n",
       "      <th></th>\n",
       "      <th></th>\n",
       "      <th></th>\n",
       "    </tr>\n",
       "  </thead>\n",
       "  <tbody>\n",
       "    <tr>\n",
       "      <th>The Fellowship of the Ring</th>\n",
       "      <td>26</td>\n",
       "      <td>26</td>\n",
       "      <td>26</td>\n",
       "      <td>26</td>\n",
       "      <td>26</td>\n",
       "      <td>26</td>\n",
       "    </tr>\n",
       "    <tr>\n",
       "      <th>The Hobbit</th>\n",
       "      <td>19</td>\n",
       "      <td>19</td>\n",
       "      <td>19</td>\n",
       "      <td>19</td>\n",
       "      <td>19</td>\n",
       "      <td>19</td>\n",
       "    </tr>\n",
       "    <tr>\n",
       "      <th>The Return of the King</th>\n",
       "      <td>19</td>\n",
       "      <td>19</td>\n",
       "      <td>19</td>\n",
       "      <td>19</td>\n",
       "      <td>19</td>\n",
       "      <td>19</td>\n",
       "    </tr>\n",
       "    <tr>\n",
       "      <th>The Two Towers</th>\n",
       "      <td>21</td>\n",
       "      <td>21</td>\n",
       "      <td>21</td>\n",
       "      <td>21</td>\n",
       "      <td>21</td>\n",
       "      <td>21</td>\n",
       "    </tr>\n",
       "  </tbody>\n",
       "</table>\n",
       "</div>"
      ],
      "text/plain": [
       "                            CollectionNum  ChapterNum  ChapterName  WordCount  \\\n",
       "CollectionName                                                                  \n",
       "The Fellowship of the Ring             26          26           26         26   \n",
       "The Hobbit                             19          19           19         19   \n",
       "The Return of the King                 19          19           19         19   \n",
       "The Two Towers                         21          21           21         21   \n",
       "\n",
       "                            BookNum  ReadTime  \n",
       "CollectionName                                 \n",
       "The Fellowship of the Ring       26        26  \n",
       "The Hobbit                       19        19  \n",
       "The Return of the King           19        19  \n",
       "The Two Towers                   21        21  "
      ]
     },
     "execution_count": 53,
     "metadata": {},
     "output_type": "execute_result"
    }
   ],
   "source": [
    "data.groupby(by='CollectionName').count()"
   ]
  },
  {
   "cell_type": "markdown",
   "id": "50114423",
   "metadata": {},
   "source": [
    "> What happened here? Why are all the values in a row the same? \n"
   ]
  },
  {
   "cell_type": "markdown",
   "id": "5479a809-3745-4176-9b83-f3081bddb08f",
   "metadata": {},
   "source": [
    ">A:  It counted each time the collection names appeared and replaced the individual data. "
   ]
  },
  {
   "cell_type": "code",
   "execution_count": 54,
   "id": "3771c264",
   "metadata": {},
   "outputs": [
    {
     "data": {
      "text/html": [
       "<div>\n",
       "<style scoped>\n",
       "    .dataframe tbody tr th:only-of-type {\n",
       "        vertical-align: middle;\n",
       "    }\n",
       "\n",
       "    .dataframe tbody tr th {\n",
       "        vertical-align: top;\n",
       "    }\n",
       "\n",
       "    .dataframe thead th {\n",
       "        text-align: right;\n",
       "    }\n",
       "</style>\n",
       "<table border=\"1\" class=\"dataframe\">\n",
       "  <thead>\n",
       "    <tr style=\"text-align: right;\">\n",
       "      <th></th>\n",
       "      <th>CollectionNum</th>\n",
       "      <th>ChapterNum</th>\n",
       "      <th>WordCount</th>\n",
       "      <th>BookNum</th>\n",
       "      <th>ReadTime</th>\n",
       "    </tr>\n",
       "    <tr>\n",
       "      <th>CollectionName</th>\n",
       "      <th></th>\n",
       "      <th></th>\n",
       "      <th></th>\n",
       "      <th></th>\n",
       "      <th></th>\n",
       "    </tr>\n",
       "  </thead>\n",
       "  <tbody>\n",
       "    <tr>\n",
       "      <th>The Fellowship of the Ring</th>\n",
       "      <td>26</td>\n",
       "      <td>123</td>\n",
       "      <td>187726</td>\n",
       "      <td>36</td>\n",
       "      <td>834.337778</td>\n",
       "    </tr>\n",
       "    <tr>\n",
       "      <th>The Hobbit</th>\n",
       "      <td>0</td>\n",
       "      <td>190</td>\n",
       "      <td>95506</td>\n",
       "      <td>0</td>\n",
       "      <td>424.471111</td>\n",
       "    </tr>\n",
       "    <tr>\n",
       "      <th>The Return of the King</th>\n",
       "      <td>57</td>\n",
       "      <td>100</td>\n",
       "      <td>137037</td>\n",
       "      <td>104</td>\n",
       "      <td>609.053333</td>\n",
       "    </tr>\n",
       "    <tr>\n",
       "      <th>The Two Towers</th>\n",
       "      <td>42</td>\n",
       "      <td>121</td>\n",
       "      <td>156147</td>\n",
       "      <td>73</td>\n",
       "      <td>693.986667</td>\n",
       "    </tr>\n",
       "  </tbody>\n",
       "</table>\n",
       "</div>"
      ],
      "text/plain": [
       "                            CollectionNum  ChapterNum  WordCount  BookNum  \\\n",
       "CollectionName                                                              \n",
       "The Fellowship of the Ring             26         123     187726       36   \n",
       "The Hobbit                              0         190      95506        0   \n",
       "The Return of the King                 57         100     137037      104   \n",
       "The Two Towers                         42         121     156147       73   \n",
       "\n",
       "                              ReadTime  \n",
       "CollectionName                          \n",
       "The Fellowship of the Ring  834.337778  \n",
       "The Hobbit                  424.471111  \n",
       "The Return of the King      609.053333  \n",
       "The Two Towers              693.986667  "
      ]
     },
     "execution_count": 54,
     "metadata": {},
     "output_type": "execute_result"
    }
   ],
   "source": [
    "data.groupby(by='CollectionName').sum()"
   ]
  },
  {
   "cell_type": "markdown",
   "id": "0e325458",
   "metadata": {},
   "source": [
    "> What happened here? Explain where these values came from. \n"
   ]
  },
  {
   "cell_type": "markdown",
   "id": "1b63e412-ccef-4d0c-859e-5dced7d652b3",
   "metadata": {},
   "source": [
    ">The function added every chapter in each collection instead of counting them. It condensed each column down."
   ]
  },
  {
   "cell_type": "markdown",
   "id": "29767560",
   "metadata": {},
   "source": [
    "## Selecting (Advanced Slicing)"
   ]
  },
  {
   "cell_type": "markdown",
   "id": "5fad3da2",
   "metadata": {},
   "source": [
    "You can select slices of your dataframe using conditional logic as well. Conditional logic means determining if a condition is `True` or `False` and often relies on operations like: equals `==`, not `!`, and `&`, or `|`."
   ]
  },
  {
   "cell_type": "code",
   "execution_count": 55,
   "id": "7b95e9eb",
   "metadata": {},
   "outputs": [
    {
     "data": {
      "text/html": [
       "<div>\n",
       "<style scoped>\n",
       "    .dataframe tbody tr th:only-of-type {\n",
       "        vertical-align: middle;\n",
       "    }\n",
       "\n",
       "    .dataframe tbody tr th {\n",
       "        vertical-align: top;\n",
       "    }\n",
       "\n",
       "    .dataframe thead th {\n",
       "        text-align: right;\n",
       "    }\n",
       "</style>\n",
       "<table border=\"1\" class=\"dataframe\">\n",
       "  <thead>\n",
       "    <tr style=\"text-align: right;\">\n",
       "      <th></th>\n",
       "      <th>Books</th>\n",
       "      <th>Words</th>\n",
       "    </tr>\n",
       "  </thead>\n",
       "  <tbody>\n",
       "    <tr>\n",
       "      <th>0</th>\n",
       "      <td>The Silmarillion</td>\n",
       "      <td>130115</td>\n",
       "    </tr>\n",
       "    <tr>\n",
       "      <th>1</th>\n",
       "      <td>The Hobbit</td>\n",
       "      <td>95506</td>\n",
       "    </tr>\n",
       "    <tr>\n",
       "      <th>2</th>\n",
       "      <td>The Fellowship of the Ring</td>\n",
       "      <td>187726</td>\n",
       "    </tr>\n",
       "    <tr>\n",
       "      <th>3</th>\n",
       "      <td>The Two Towers</td>\n",
       "      <td>156147</td>\n",
       "    </tr>\n",
       "    <tr>\n",
       "      <th>4</th>\n",
       "      <td>The Return of the King</td>\n",
       "      <td>137037</td>\n",
       "    </tr>\n",
       "  </tbody>\n",
       "</table>\n",
       "</div>"
      ],
      "text/plain": [
       "                        Books   Words\n",
       "0            The Silmarillion  130115\n",
       "1                  The Hobbit   95506\n",
       "2  The Fellowship of the Ring  187726\n",
       "3              The Two Towers  156147\n",
       "4      The Return of the King  137037"
      ]
     },
     "execution_count": 55,
     "metadata": {},
     "output_type": "execute_result"
    }
   ],
   "source": [
    "df"
   ]
  },
  {
   "cell_type": "code",
   "execution_count": 56,
   "id": "ead8d0b5",
   "metadata": {},
   "outputs": [
    {
     "data": {
      "text/html": [
       "<div>\n",
       "<style scoped>\n",
       "    .dataframe tbody tr th:only-of-type {\n",
       "        vertical-align: middle;\n",
       "    }\n",
       "\n",
       "    .dataframe tbody tr th {\n",
       "        vertical-align: top;\n",
       "    }\n",
       "\n",
       "    .dataframe thead th {\n",
       "        text-align: right;\n",
       "    }\n",
       "</style>\n",
       "<table border=\"1\" class=\"dataframe\">\n",
       "  <thead>\n",
       "    <tr style=\"text-align: right;\">\n",
       "      <th></th>\n",
       "      <th>Books</th>\n",
       "      <th>Words</th>\n",
       "    </tr>\n",
       "  </thead>\n",
       "  <tbody>\n",
       "    <tr>\n",
       "      <th>1</th>\n",
       "      <td>The Hobbit</td>\n",
       "      <td>95506</td>\n",
       "    </tr>\n",
       "  </tbody>\n",
       "</table>\n",
       "</div>"
      ],
      "text/plain": [
       "        Books  Words\n",
       "1  The Hobbit  95506"
      ]
     },
     "execution_count": 56,
     "metadata": {},
     "output_type": "execute_result"
    }
   ],
   "source": [
    "# Select values based on exact matches\n",
    "df[df['Books']=='The Hobbit']"
   ]
  },
  {
   "cell_type": "code",
   "execution_count": 57,
   "id": "2081996b",
   "metadata": {},
   "outputs": [
    {
     "data": {
      "text/html": [
       "<div>\n",
       "<style scoped>\n",
       "    .dataframe tbody tr th:only-of-type {\n",
       "        vertical-align: middle;\n",
       "    }\n",
       "\n",
       "    .dataframe tbody tr th {\n",
       "        vertical-align: top;\n",
       "    }\n",
       "\n",
       "    .dataframe thead th {\n",
       "        text-align: right;\n",
       "    }\n",
       "</style>\n",
       "<table border=\"1\" class=\"dataframe\">\n",
       "  <thead>\n",
       "    <tr style=\"text-align: right;\">\n",
       "      <th></th>\n",
       "      <th>Books</th>\n",
       "      <th>Words</th>\n",
       "    </tr>\n",
       "  </thead>\n",
       "  <tbody>\n",
       "    <tr>\n",
       "      <th>0</th>\n",
       "      <td>The Silmarillion</td>\n",
       "      <td>130115</td>\n",
       "    </tr>\n",
       "    <tr>\n",
       "      <th>2</th>\n",
       "      <td>The Fellowship of the Ring</td>\n",
       "      <td>187726</td>\n",
       "    </tr>\n",
       "    <tr>\n",
       "      <th>3</th>\n",
       "      <td>The Two Towers</td>\n",
       "      <td>156147</td>\n",
       "    </tr>\n",
       "    <tr>\n",
       "      <th>4</th>\n",
       "      <td>The Return of the King</td>\n",
       "      <td>137037</td>\n",
       "    </tr>\n",
       "  </tbody>\n",
       "</table>\n",
       "</div>"
      ],
      "text/plain": [
       "                        Books   Words\n",
       "0            The Silmarillion  130115\n",
       "2  The Fellowship of the Ring  187726\n",
       "3              The Two Towers  156147\n",
       "4      The Return of the King  137037"
      ]
     },
     "execution_count": 57,
     "metadata": {},
     "output_type": "execute_result"
    }
   ],
   "source": [
    "# Select values by negating a match\n",
    "df[df['Books']!='The Hobbit']"
   ]
  },
  {
   "cell_type": "code",
   "execution_count": 58,
   "id": "5582578d",
   "metadata": {},
   "outputs": [
    {
     "data": {
      "text/html": [
       "<div>\n",
       "<style scoped>\n",
       "    .dataframe tbody tr th:only-of-type {\n",
       "        vertical-align: middle;\n",
       "    }\n",
       "\n",
       "    .dataframe tbody tr th {\n",
       "        vertical-align: top;\n",
       "    }\n",
       "\n",
       "    .dataframe thead th {\n",
       "        text-align: right;\n",
       "    }\n",
       "</style>\n",
       "<table border=\"1\" class=\"dataframe\">\n",
       "  <thead>\n",
       "    <tr style=\"text-align: right;\">\n",
       "      <th></th>\n",
       "      <th>Books</th>\n",
       "      <th>Words</th>\n",
       "    </tr>\n",
       "  </thead>\n",
       "  <tbody>\n",
       "    <tr>\n",
       "      <th>2</th>\n",
       "      <td>The Fellowship of the Ring</td>\n",
       "      <td>187726</td>\n",
       "    </tr>\n",
       "    <tr>\n",
       "      <th>4</th>\n",
       "      <td>The Return of the King</td>\n",
       "      <td>137037</td>\n",
       "    </tr>\n",
       "  </tbody>\n",
       "</table>\n",
       "</div>"
      ],
      "text/plain": [
       "                        Books   Words\n",
       "2  The Fellowship of the Ring  187726\n",
       "4      The Return of the King  137037"
      ]
     },
     "execution_count": 58,
     "metadata": {},
     "output_type": "execute_result"
    }
   ],
   "source": [
    "# Select values containing substrings\n",
    "df[df['Books'].str.contains('ing')]"
   ]
  },
  {
   "cell_type": "code",
   "execution_count": 59,
   "id": "fea23473",
   "metadata": {},
   "outputs": [
    {
     "data": {
      "text/html": [
       "<div>\n",
       "<style scoped>\n",
       "    .dataframe tbody tr th:only-of-type {\n",
       "        vertical-align: middle;\n",
       "    }\n",
       "\n",
       "    .dataframe tbody tr th {\n",
       "        vertical-align: top;\n",
       "    }\n",
       "\n",
       "    .dataframe thead th {\n",
       "        text-align: right;\n",
       "    }\n",
       "</style>\n",
       "<table border=\"1\" class=\"dataframe\">\n",
       "  <thead>\n",
       "    <tr style=\"text-align: right;\">\n",
       "      <th></th>\n",
       "      <th>Books</th>\n",
       "      <th>Words</th>\n",
       "    </tr>\n",
       "  </thead>\n",
       "  <tbody>\n",
       "    <tr>\n",
       "      <th>2</th>\n",
       "      <td>The Fellowship of the Ring</td>\n",
       "      <td>187726</td>\n",
       "    </tr>\n",
       "  </tbody>\n",
       "</table>\n",
       "</div>"
      ],
      "text/plain": [
       "                        Books   Words\n",
       "2  The Fellowship of the Ring  187726"
      ]
     },
     "execution_count": 59,
     "metadata": {},
     "output_type": "execute_result"
    }
   ],
   "source": [
    "# Select values on multiple conditions using different columns\n",
    "df[(df['Books'].str.contains('ing')) & (df['Words']>150000)]"
   ]
  },
  {
   "cell_type": "markdown",
   "id": "8ba7d9b8",
   "metadata": {},
   "source": [
    ">Can you select the books with a lowercase 'r' in their name but not a capital 'R'? *Hint: you can use \"~\" to negate a function*"
   ]
  },
  {
   "cell_type": "code",
   "execution_count": 60,
   "id": "a89c9912",
   "metadata": {},
   "outputs": [
    {
     "data": {
      "text/html": [
       "<div>\n",
       "<style scoped>\n",
       "    .dataframe tbody tr th:only-of-type {\n",
       "        vertical-align: middle;\n",
       "    }\n",
       "\n",
       "    .dataframe tbody tr th {\n",
       "        vertical-align: top;\n",
       "    }\n",
       "\n",
       "    .dataframe thead th {\n",
       "        text-align: right;\n",
       "    }\n",
       "</style>\n",
       "<table border=\"1\" class=\"dataframe\">\n",
       "  <thead>\n",
       "    <tr style=\"text-align: right;\">\n",
       "      <th></th>\n",
       "      <th>Books</th>\n",
       "      <th>Words</th>\n",
       "    </tr>\n",
       "  </thead>\n",
       "  <tbody>\n",
       "    <tr>\n",
       "      <th>0</th>\n",
       "      <td>The Silmarillion</td>\n",
       "      <td>130115</td>\n",
       "    </tr>\n",
       "    <tr>\n",
       "      <th>3</th>\n",
       "      <td>The Two Towers</td>\n",
       "      <td>156147</td>\n",
       "    </tr>\n",
       "  </tbody>\n",
       "</table>\n",
       "</div>"
      ],
      "text/plain": [
       "              Books   Words\n",
       "0  The Silmarillion  130115\n",
       "3    The Two Towers  156147"
      ]
     },
     "execution_count": 60,
     "metadata": {},
     "output_type": "execute_result"
    }
   ],
   "source": [
    "df[(df['Books'].str.contains('r')) & (~df['Books'].str.contains('R'))]"
   ]
  },
  {
   "cell_type": "markdown",
   "id": "a8ab9413",
   "metadata": {},
   "source": [
    "## Joining"
   ]
  },
  {
   "cell_type": "markdown",
   "id": "883c1c11",
   "metadata": {},
   "source": [
    "You can also merge 2 dataframes if you want. Merging allows you to combine datasets in new ways and is a great tool to have when working with complex datasets."
   ]
  },
  {
   "cell_type": "markdown",
   "id": "bccb868e",
   "metadata": {},
   "source": [
    "First we need a second dataframe to work with. Here, we have made a dataframe with the publication year of each of of our Tolkien books."
   ]
  },
  {
   "cell_type": "code",
   "execution_count": 61,
   "id": "4c78c801",
   "metadata": {},
   "outputs": [
    {
     "data": {
      "text/html": [
       "<div>\n",
       "<style scoped>\n",
       "    .dataframe tbody tr th:only-of-type {\n",
       "        vertical-align: middle;\n",
       "    }\n",
       "\n",
       "    .dataframe tbody tr th {\n",
       "        vertical-align: top;\n",
       "    }\n",
       "\n",
       "    .dataframe thead th {\n",
       "        text-align: right;\n",
       "    }\n",
       "</style>\n",
       "<table border=\"1\" class=\"dataframe\">\n",
       "  <thead>\n",
       "    <tr style=\"text-align: right;\">\n",
       "      <th></th>\n",
       "      <th>Books</th>\n",
       "      <th>Words</th>\n",
       "    </tr>\n",
       "  </thead>\n",
       "  <tbody>\n",
       "    <tr>\n",
       "      <th>0</th>\n",
       "      <td>The Silmarillion</td>\n",
       "      <td>130115</td>\n",
       "    </tr>\n",
       "    <tr>\n",
       "      <th>1</th>\n",
       "      <td>The Hobbit</td>\n",
       "      <td>95506</td>\n",
       "    </tr>\n",
       "    <tr>\n",
       "      <th>2</th>\n",
       "      <td>The Fellowship of the Ring</td>\n",
       "      <td>187726</td>\n",
       "    </tr>\n",
       "    <tr>\n",
       "      <th>3</th>\n",
       "      <td>The Two Towers</td>\n",
       "      <td>156147</td>\n",
       "    </tr>\n",
       "    <tr>\n",
       "      <th>4</th>\n",
       "      <td>The Return of the King</td>\n",
       "      <td>137037</td>\n",
       "    </tr>\n",
       "  </tbody>\n",
       "</table>\n",
       "</div>"
      ],
      "text/plain": [
       "                        Books   Words\n",
       "0            The Silmarillion  130115\n",
       "1                  The Hobbit   95506\n",
       "2  The Fellowship of the Ring  187726\n",
       "3              The Two Towers  156147\n",
       "4      The Return of the King  137037"
      ]
     },
     "execution_count": 61,
     "metadata": {},
     "output_type": "execute_result"
    }
   ],
   "source": [
    "df"
   ]
  },
  {
   "cell_type": "code",
   "execution_count": 62,
   "id": "711a3228",
   "metadata": {
    "jupyter": {
     "source_hidden": true
    },
    "tags": []
   },
   "outputs": [
    {
     "data": {
      "text/html": [
       "<div>\n",
       "<style scoped>\n",
       "    .dataframe tbody tr th:only-of-type {\n",
       "        vertical-align: middle;\n",
       "    }\n",
       "\n",
       "    .dataframe tbody tr th {\n",
       "        vertical-align: top;\n",
       "    }\n",
       "\n",
       "    .dataframe thead th {\n",
       "        text-align: right;\n",
       "    }\n",
       "</style>\n",
       "<table border=\"1\" class=\"dataframe\">\n",
       "  <thead>\n",
       "    <tr style=\"text-align: right;\">\n",
       "      <th></th>\n",
       "      <th>Name</th>\n",
       "      <th>Year</th>\n",
       "    </tr>\n",
       "  </thead>\n",
       "  <tbody>\n",
       "    <tr>\n",
       "      <th>0</th>\n",
       "      <td>The Silmarillion</td>\n",
       "      <td>1977</td>\n",
       "    </tr>\n",
       "    <tr>\n",
       "      <th>1</th>\n",
       "      <td>The Hobbit</td>\n",
       "      <td>1934</td>\n",
       "    </tr>\n",
       "    <tr>\n",
       "      <th>2</th>\n",
       "      <td>The Fellowship of the Ring</td>\n",
       "      <td>1954</td>\n",
       "    </tr>\n",
       "    <tr>\n",
       "      <th>3</th>\n",
       "      <td>The Two Towers</td>\n",
       "      <td>1954</td>\n",
       "    </tr>\n",
       "    <tr>\n",
       "      <th>4</th>\n",
       "      <td>The Return of the King</td>\n",
       "      <td>1954</td>\n",
       "    </tr>\n",
       "  </tbody>\n",
       "</table>\n",
       "</div>"
      ],
      "text/plain": [
       "                         Name  Year\n",
       "0            The Silmarillion  1977\n",
       "1                  The Hobbit  1934\n",
       "2  The Fellowship of the Ring  1954\n",
       "3              The Two Towers  1954\n",
       "4      The Return of the King  1954"
      ]
     },
     "execution_count": 62,
     "metadata": {},
     "output_type": "execute_result"
    }
   ],
   "source": [
    "dates = pd.DataFrame({'Name':df['Books'],'Year':pd.Series([1977,1934,1954,1954,1954])})\n",
    "dates\n",
    "# NOTE: We named our column 'Name' for instructional purposes, but a better name would be 'Books' so that it matches my other dataframe.\n",
    "#       Typically you want to use a unique identifier in your data and then merge based on that column."
   ]
  },
  {
   "cell_type": "markdown",
   "id": "94eedd93",
   "metadata": {},
   "source": [
    "Now we can merge our new dates dataframe with our existing dataframe.\n",
    "\n",
    "We have done an inner join (only rows that match in both dataframes will appear in our join) where the column in the left dataframe is called \"Books\" and the column in the right dataframe is called \"Name\".\n",
    "\n",
    "More documentation on merging dataframes can be found [here](https://pandas.pydata.org/pandas-docs/stable/reference/api/pandas.DataFrame.merge.html)."
   ]
  },
  {
   "cell_type": "code",
   "execution_count": 63,
   "id": "6c52d0d1",
   "metadata": {},
   "outputs": [
    {
     "data": {
      "text/html": [
       "<div>\n",
       "<style scoped>\n",
       "    .dataframe tbody tr th:only-of-type {\n",
       "        vertical-align: middle;\n",
       "    }\n",
       "\n",
       "    .dataframe tbody tr th {\n",
       "        vertical-align: top;\n",
       "    }\n",
       "\n",
       "    .dataframe thead th {\n",
       "        text-align: right;\n",
       "    }\n",
       "</style>\n",
       "<table border=\"1\" class=\"dataframe\">\n",
       "  <thead>\n",
       "    <tr style=\"text-align: right;\">\n",
       "      <th></th>\n",
       "      <th>Books</th>\n",
       "      <th>Words</th>\n",
       "      <th>Name</th>\n",
       "      <th>Year</th>\n",
       "    </tr>\n",
       "  </thead>\n",
       "  <tbody>\n",
       "    <tr>\n",
       "      <th>0</th>\n",
       "      <td>The Silmarillion</td>\n",
       "      <td>130115</td>\n",
       "      <td>The Silmarillion</td>\n",
       "      <td>1977</td>\n",
       "    </tr>\n",
       "    <tr>\n",
       "      <th>1</th>\n",
       "      <td>The Hobbit</td>\n",
       "      <td>95506</td>\n",
       "      <td>The Hobbit</td>\n",
       "      <td>1934</td>\n",
       "    </tr>\n",
       "    <tr>\n",
       "      <th>2</th>\n",
       "      <td>The Fellowship of the Ring</td>\n",
       "      <td>187726</td>\n",
       "      <td>The Fellowship of the Ring</td>\n",
       "      <td>1954</td>\n",
       "    </tr>\n",
       "    <tr>\n",
       "      <th>3</th>\n",
       "      <td>The Two Towers</td>\n",
       "      <td>156147</td>\n",
       "      <td>The Two Towers</td>\n",
       "      <td>1954</td>\n",
       "    </tr>\n",
       "    <tr>\n",
       "      <th>4</th>\n",
       "      <td>The Return of the King</td>\n",
       "      <td>137037</td>\n",
       "      <td>The Return of the King</td>\n",
       "      <td>1954</td>\n",
       "    </tr>\n",
       "  </tbody>\n",
       "</table>\n",
       "</div>"
      ],
      "text/plain": [
       "                        Books   Words                        Name  Year\n",
       "0            The Silmarillion  130115            The Silmarillion  1977\n",
       "1                  The Hobbit   95506                  The Hobbit  1934\n",
       "2  The Fellowship of the Ring  187726  The Fellowship of the Ring  1954\n",
       "3              The Two Towers  156147              The Two Towers  1954\n",
       "4      The Return of the King  137037      The Return of the King  1954"
      ]
     },
     "execution_count": 63,
     "metadata": {},
     "output_type": "execute_result"
    }
   ],
   "source": [
    "pd.merge(df,dates, left_on=\"Books\", right_on=\"Name\", how = 'inner')"
   ]
  },
  {
   "cell_type": "markdown",
   "id": "c43452e9",
   "metadata": {},
   "source": [
    "Notice that our merge duplicated our matching column because they had different names. This would not happen if we had the same name for columns in both dataframes. However, will not always be the case, so you can clean up your dataframe by dropping one of the redundant columns."
   ]
  },
  {
   "cell_type": "code",
   "execution_count": 64,
   "id": "084fe2d3",
   "metadata": {},
   "outputs": [
    {
     "data": {
      "text/html": [
       "<div>\n",
       "<style scoped>\n",
       "    .dataframe tbody tr th:only-of-type {\n",
       "        vertical-align: middle;\n",
       "    }\n",
       "\n",
       "    .dataframe tbody tr th {\n",
       "        vertical-align: top;\n",
       "    }\n",
       "\n",
       "    .dataframe thead th {\n",
       "        text-align: right;\n",
       "    }\n",
       "</style>\n",
       "<table border=\"1\" class=\"dataframe\">\n",
       "  <thead>\n",
       "    <tr style=\"text-align: right;\">\n",
       "      <th></th>\n",
       "      <th>Books</th>\n",
       "      <th>Words</th>\n",
       "      <th>Year</th>\n",
       "    </tr>\n",
       "  </thead>\n",
       "  <tbody>\n",
       "    <tr>\n",
       "      <th>0</th>\n",
       "      <td>The Silmarillion</td>\n",
       "      <td>130115</td>\n",
       "      <td>1977</td>\n",
       "    </tr>\n",
       "    <tr>\n",
       "      <th>1</th>\n",
       "      <td>The Hobbit</td>\n",
       "      <td>95506</td>\n",
       "      <td>1934</td>\n",
       "    </tr>\n",
       "    <tr>\n",
       "      <th>2</th>\n",
       "      <td>The Fellowship of the Ring</td>\n",
       "      <td>187726</td>\n",
       "      <td>1954</td>\n",
       "    </tr>\n",
       "    <tr>\n",
       "      <th>3</th>\n",
       "      <td>The Two Towers</td>\n",
       "      <td>156147</td>\n",
       "      <td>1954</td>\n",
       "    </tr>\n",
       "    <tr>\n",
       "      <th>4</th>\n",
       "      <td>The Return of the King</td>\n",
       "      <td>137037</td>\n",
       "      <td>1954</td>\n",
       "    </tr>\n",
       "  </tbody>\n",
       "</table>\n",
       "</div>"
      ],
      "text/plain": [
       "                        Books   Words  Year\n",
       "0            The Silmarillion  130115  1977\n",
       "1                  The Hobbit   95506  1934\n",
       "2  The Fellowship of the Ring  187726  1954\n",
       "3              The Two Towers  156147  1954\n",
       "4      The Return of the King  137037  1954"
      ]
     },
     "execution_count": 64,
     "metadata": {},
     "output_type": "execute_result"
    }
   ],
   "source": [
    "merged = pd.merge(df,dates, left_on=\"Books\", right_on=\"Name\", how = 'inner').drop(columns=['Name'])\n",
    "merged"
   ]
  },
  {
   "cell_type": "markdown",
   "id": "5ff29849-686c-47b5-af3c-cba875b89b25",
   "metadata": {},
   "source": [
    "> 1) Assuming Tolkien wrote consistently, how many words per year did he write between the publication of \"The Hobbit\" and the \n",
    "\"The Lord of the Rings\" trilogy? \n",
    "> 2) The trilogy and the rlease of \"The Silmarillion\"? \n",
    "> 3) Using those rates, predict when he might have started writing \"The Hobbit\"."
   ]
  },
  {
   "cell_type": "code",
   "execution_count": 93,
   "id": "67840aac-66d3-4ec0-b360-cdde94a24c74",
   "metadata": {},
   "outputs": [
    {
     "data": {
      "text/plain": [
       "24045.5"
      ]
     },
     "execution_count": 93,
     "metadata": {},
     "output_type": "execute_result"
    }
   ],
   "source": [
    "int_1 = 54-34\n",
    "lotr_w=sum(merged[\"Words\"][2:5])\n",
    "wpy_1 = lotr_w / int_1\n",
    "wpy_1"
   ]
  },
  {
   "cell_type": "code",
   "execution_count": 94,
   "id": "381b9854-d2bf-486e-9e02-d6cf28c5b851",
   "metadata": {},
   "outputs": [
    {
     "data": {
      "text/plain": [
       "5657.173913043478"
      ]
     },
     "execution_count": 94,
     "metadata": {},
     "output_type": "execute_result"
    }
   ],
   "source": [
    "int_2 = 77-54\n",
    "sil_w = 130115\n",
    "wpy_2 = sil_w / int_2\n",
    "wpy_2"
   ]
  },
  {
   "cell_type": "code",
   "execution_count": 96,
   "id": "e0870df3-0e98-47aa-a4c6-402c7959c022",
   "metadata": {},
   "outputs": [
    {
     "data": {
      "text/plain": [
       "14851.33695652174"
      ]
     },
     "execution_count": 96,
     "metadata": {},
     "output_type": "execute_result"
    }
   ],
   "source": [
    "avg_w = (wpy_1+wpy_2)/2\n",
    "avg_w"
   ]
  },
  {
   "cell_type": "code",
   "execution_count": 97,
   "id": "a86fcf8c-71db-40b1-b28f-435e03b69f05",
   "metadata": {},
   "outputs": [
    {
     "data": {
      "text/plain": [
       "6.4308015015483155"
      ]
     },
     "execution_count": 97,
     "metadata": {},
     "output_type": "execute_result"
    }
   ],
   "source": [
    "hob_w = 95506\n",
    "hob_y = hob_w/avg_w\n",
    "hob_y"
   ]
  },
  {
   "cell_type": "markdown",
   "id": "8cf1406a",
   "metadata": {},
   "source": [
    "# Plotting"
   ]
  },
  {
   "cell_type": "markdown",
   "id": "4c0ea4e9",
   "metadata": {},
   "source": [
    "Visualizing data is incredibly important when trying to convey findings. There are several libraries available for doing data visualization. Pandas has some built in plotting functionality, but we have provided access to MatPlotLib as well."
   ]
  },
  {
   "cell_type": "code",
   "execution_count": 70,
   "id": "6cddbb15",
   "metadata": {},
   "outputs": [],
   "source": [
    "# This is only needed in this case because we wanted to show the names of the books. You could make a similar plot in Pandas.\n",
    "import matplotlib as plt\n",
    "%matplotlib inline\n",
    "# This allows the plot to be shown inline in the notebook"
   ]
  },
  {
   "cell_type": "code",
   "execution_count": 71,
   "id": "6f948525",
   "metadata": {},
   "outputs": [
    {
     "data": {
      "image/png": "[encoded data removed]",
      "text/plain": [
       "<Figure size 432x288 with 1 Axes>"
      ]
     },
     "metadata": {
      "needs_background": "light"
     },
     "output_type": "display_data"
    }
   ],
   "source": [
    "plot = df.plot(kind='bar') # we are setting the type of plot to a bar graph\n",
    "plot.set_xticklabels(df['Books']); #This lets us rename the x axis labels"
   ]
  },
  {
   "cell_type": "markdown",
   "id": "62a1cc04",
   "metadata": {},
   "source": [
    "## More Complex Plotting"
   ]
  },
  {
   "cell_type": "markdown",
   "id": "35d3a08f",
   "metadata": {},
   "source": [
    "Lastly, we can combine several of the things we have learned into a single plot. Here we can group each book together and then look at the word counts by chapter throughout the story."
   ]
  },
  {
   "cell_type": "markdown",
   "id": "cf2b2bf9",
   "metadata": {},
   "source": [
    "First, we want to come up with a way to step through the books in a linear way. We have provided a few ways to do this in increasing complexity."
   ]
  },
  {
   "cell_type": "code",
   "execution_count": 72,
   "id": "29a5ddca",
   "metadata": {},
   "outputs": [],
   "source": [
    "#Simple - add the collection number to the chapter number divided by 10\n",
    "#data['BookChapter'] = data['CollectionNum']+0.1*data['ChapterNum']\n",
    "\n",
    "# Much better - add the book number to the chapter number divided by 10\n",
    "#data['BookChapter'] = data['BookNum']+0.1*data['ChapterNum']\n",
    "\n",
    "# Best but complicated - add the book number to the chapter number scaled by 1/n where n is the max number of chapters in that book.\n",
    "data['BookChapter']=data.apply(lambda x: x['BookNum']+(1/data.groupby(by='BookNum').max()['ChapterNum'][x['BookNum']])*x['ChapterNum'], axis=1)"
   ]
  },
  {
   "cell_type": "markdown",
   "id": "bb4bba5b",
   "metadata": {
    "tags": []
   },
   "source": [
    " Notice that the prologue materials in *The Fellowship of the Ring* cause it to overlap with the *Hobbit*. If we wanted to resolve this, we would need to revisit our conventions in our data."
   ]
  },
  {
   "cell_type": "code",
   "execution_count": 73,
   "id": "66a16f14",
   "metadata": {},
   "outputs": [
    {
     "data": {
      "text/plain": [
       "<matplotlib.legend.Legend at 0x155506e0d190>"
      ]
     },
     "execution_count": 73,
     "metadata": {},
     "output_type": "execute_result"
    },
    {
     "data": {
      "image/png": "[encoded data removed]",
      "text/plain": [
       "<Figure size 432x288 with 1 Axes>"
      ]
     },
     "metadata": {
      "needs_background": "light"
     },
     "output_type": "display_data"
    }
   ],
   "source": [
    "groups = data.groupby(\"CollectionName\")\n",
    "\n",
    "for name, group in groups:\n",
    "\n",
    "    plt.pyplot.plot(group[\"BookChapter\"], group[\"WordCount\"],label=name)\n",
    "\n",
    "plt.pyplot.legend()\n"
   ]
  },
  {
   "cell_type": "markdown",
   "id": "9753d28f",
   "metadata": {},
   "source": [
    "> 1) Generate a bar graph showing the word length of each chapter in our data set.\n",
    "> 2) Look in the documentation for [pandas visualization](https://pandas.pydata.org/pandas-docs/stable/user_guide/visualization.html) and learn how to change the color of the bars in your bar graph."
   ]
  },
  {
   "cell_type": "code",
   "execution_count": 101,
   "id": "21d15e9d-06e9-4eed-99a7-aa90356d5969",
   "metadata": {},
   "outputs": [
    {
     "data": {
      "image/png": "[encoded data removed]",
      "text/plain": [
       "<Figure size 1440x720 with 1 Axes>"
      ]
     },
     "metadata": {
      "needs_background": "light"
     },
     "output_type": "display_data"
    }
   ],
   "source": [
    "plot = data[['ChapterName', 'WordCount']].plot(kind='bar', figsize=(20,10)) # we are setting the type of plot to a bar graph\n",
    "plot.set_xticklabels(data['ChapterName']);"
   ]
  },
  {
   "cell_type": "code",
   "execution_count": null,
   "id": "71aa3c76",
   "metadata": {},
   "outputs": [],
   "source": []
  }
 ],
 "metadata": {
  "jupytext": {
   "formats": "ipynb"
  },
  "kernelspec": {
   "display_name": "Python 3 (ipykernel)",
   "language": "python",
   "name": "python3"
  },
  "language_info": {
   "codemirror_mode": {
    "name": "ipython",
    "version": 3
   },
   "file_extension": ".py",
   "mimetype": "text/x-python",
   "name": "python",
   "nbconvert_exporter": "python",
   "pygments_lexer": "ipython3",
   "version": "3.9.12"
  }
 },
 "nbformat": 4,
 "nbformat_minor": 5
}
